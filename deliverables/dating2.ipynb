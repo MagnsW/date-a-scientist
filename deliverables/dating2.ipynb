{
 "cells": [
  {
   "cell_type": "code",
   "execution_count": 1,
   "metadata": {},
   "outputs": [],
   "source": [
    "import pandas as pd\n",
    "import numpy as np\n",
    "from matplotlib import pyplot as plt"
   ]
  },
  {
   "cell_type": "code",
   "execution_count": 2,
   "metadata": {},
   "outputs": [],
   "source": [
    "df_raw = pd.read_csv('profiles.csv')\n"
   ]
  },
  {
   "cell_type": "code",
   "execution_count": 3,
   "metadata": {},
   "outputs": [],
   "source": [
    "df = df_raw"
   ]
  },
  {
   "cell_type": "code",
   "execution_count": 4,
   "metadata": {},
   "outputs": [
    {
     "name": "stdout",
     "output_type": "stream",
     "text": [
      "59946\n"
     ]
    }
   ],
   "source": [
    "print(len(df))"
   ]
  },
  {
   "cell_type": "code",
   "execution_count": 5,
   "metadata": {},
   "outputs": [],
   "source": [
    "#df.height"
   ]
  },
  {
   "cell_type": "code",
   "execution_count": 6,
   "metadata": {},
   "outputs": [
    {
     "name": "stdout",
     "output_type": "stream",
     "text": [
      "age              int64\n",
      "body_type       object\n",
      "diet            object\n",
      "drinks          object\n",
      "drugs           object\n",
      "education       object\n",
      "essay0          object\n",
      "essay1          object\n",
      "essay2          object\n",
      "essay3          object\n",
      "essay4          object\n",
      "essay5          object\n",
      "essay6          object\n",
      "essay7          object\n",
      "essay8          object\n",
      "essay9          object\n",
      "ethnicity       object\n",
      "height         float64\n",
      "income           int64\n",
      "job             object\n",
      "last_online     object\n",
      "location        object\n",
      "offspring       object\n",
      "orientation     object\n",
      "pets            object\n",
      "religion        object\n",
      "sex             object\n",
      "sign            object\n",
      "smokes          object\n",
      "speaks          object\n",
      "status          object\n",
      "dtype: object\n"
     ]
    }
   ],
   "source": [
    "print(df.dtypes)"
   ]
  },
  {
   "cell_type": "markdown",
   "metadata": {},
   "source": [
    "## Filling NaN with values"
   ]
  },
  {
   "cell_type": "code",
   "execution_count": 7,
   "metadata": {
    "scrolled": true
   },
   "outputs": [
    {
     "data": {
      "text/plain": [
       "age                0\n",
       "body_type       5296\n",
       "diet           24395\n",
       "drinks          2985\n",
       "drugs          14080\n",
       "education       6628\n",
       "essay0          5488\n",
       "essay1          7572\n",
       "essay2          9638\n",
       "essay3         11476\n",
       "essay4         10537\n",
       "essay5         10850\n",
       "essay6         13771\n",
       "essay7         12451\n",
       "essay8         19225\n",
       "essay9         12603\n",
       "ethnicity       5680\n",
       "height             3\n",
       "income             0\n",
       "job             8198\n",
       "last_online        0\n",
       "location           0\n",
       "offspring      35561\n",
       "orientation        0\n",
       "pets           19921\n",
       "religion       20226\n",
       "sex                0\n",
       "sign           11056\n",
       "smokes          5512\n",
       "speaks            50\n",
       "status             0\n",
       "dtype: int64"
      ]
     },
     "execution_count": 7,
     "metadata": {},
     "output_type": "execute_result"
    }
   ],
   "source": [
    "#Count of NaN values\n",
    "df.isna().sum()"
   ]
  },
  {
   "cell_type": "code",
   "execution_count": 8,
   "metadata": {},
   "outputs": [],
   "source": [
    "#Sets NaN height values to mean\n",
    "df.height = df.height.fillna(round(df.height.mean(),1))\n"
   ]
  },
  {
   "cell_type": "code",
   "execution_count": 9,
   "metadata": {},
   "outputs": [
    {
     "data": {
      "image/png": "[encoded data removed]",
      "text/plain": [
       "<Figure size 1152x432 with 3 Axes>"
      ]
     },
     "metadata": {},
     "output_type": "display_data"
    }
   ],
   "source": [
    "plt.figure(figsize=(16, 6))\n",
    "plt.subplot(131)\n",
    "plt.hist(df.age, bins=20)\n",
    "plt.xlabel(\"Age\")\n",
    "plt.ylabel(\"Frequency\")\n",
    "plt.xlim(16, 80)\n",
    "plt.subplot(132)\n",
    "plt.hist(df.income, bins=20)\n",
    "plt.xlabel(\"Income\")\n",
    "plt.xlim(0, 1000000)\n",
    "plt.subplot(133)\n",
    "plt.hist(df.height, bins=20)\n",
    "plt.xlabel(\"Height\")\n",
    "plt.xlim(40, 100)\n",
    "plt.show()"
   ]
  },
  {
   "cell_type": "code",
   "execution_count": 10,
   "metadata": {},
   "outputs": [],
   "source": [
    "df.body_type = df.body_type.fillna(\"rather not say\")"
   ]
  },
  {
   "cell_type": "code",
   "execution_count": 11,
   "metadata": {},
   "outputs": [
    {
     "data": {
      "text/plain": [
       "average           14652\n",
       "fit               12711\n",
       "athletic          11819\n",
       "rather not say     5494\n",
       "thin               4711\n",
       "curvy              3924\n",
       "a little extra     2629\n",
       "skinny             1777\n",
       "full figured       1009\n",
       "overweight          444\n",
       "jacked              421\n",
       "used up             355\n",
       "Name: body_type, dtype: int64"
      ]
     },
     "execution_count": 11,
     "metadata": {},
     "output_type": "execute_result"
    }
   ],
   "source": [
    "df.body_type.value_counts()"
   ]
  },
  {
   "cell_type": "code",
   "execution_count": 12,
   "metadata": {},
   "outputs": [
    {
     "data": {
      "text/plain": [
       "mostly anything        16585\n",
       "anything                6183\n",
       "strictly anything       5113\n",
       "mostly vegetarian       3444\n",
       "mostly other            1007\n",
       "strictly vegetarian      875\n",
       "vegetarian               667\n",
       "strictly other           452\n",
       "mostly vegan             338\n",
       "other                    331\n",
       "strictly vegan           228\n",
       "vegan                    136\n",
       "mostly kosher             86\n",
       "mostly halal              48\n",
       "strictly halal            18\n",
       "strictly kosher           18\n",
       "kosher                    11\n",
       "halal                     11\n",
       "Name: diet, dtype: int64"
      ]
     },
     "execution_count": 12,
     "metadata": {},
     "output_type": "execute_result"
    }
   ],
   "source": [
    "df.diet.value_counts()"
   ]
  },
  {
   "cell_type": "code",
   "execution_count": 13,
   "metadata": {},
   "outputs": [],
   "source": [
    "nan_answer = \"rather not say\"\n",
    "df.diet = df.diet.fillna(nan_answer)\n",
    "df.drinks = df.drinks.fillna(nan_answer)\n",
    "df.drugs = df.drugs.fillna(nan_answer)\n",
    "df.education = df.education.fillna(nan_answer)\n",
    "df.ethnicity = df.ethnicity.fillna(nan_answer)\n",
    "df.job = df.job.fillna(nan_answer)\n",
    "df.offspring = df.offspring.fillna(nan_answer)\n",
    "df.pets = df.pets.fillna(nan_answer)\n",
    "df.religion = df.religion.fillna(nan_answer)\n",
    "df.sign = df.sign.fillna(nan_answer)\n",
    "df.smokes = df.smokes.fillna(nan_answer)\n",
    "df.speaks = df.speaks.fillna(nan_answer)"
   ]
  },
  {
   "cell_type": "code",
   "execution_count": 14,
   "metadata": {},
   "outputs": [],
   "source": [
    "df[['essay0', 'essay1', 'essay2', 'essay3', 'essay4', 'essay5', 'essay6', 'essay7', 'essay8', 'essay9']] = df[['essay0', 'essay1', 'essay2', 'essay3', 'essay4', 'essay5', 'essay6', 'essay7', 'essay8', 'essay9']].fillna(\" \")"
   ]
  },
  {
   "cell_type": "code",
   "execution_count": 15,
   "metadata": {},
   "outputs": [
    {
     "data": {
      "text/plain": [
       "age            0\n",
       "body_type      0\n",
       "diet           0\n",
       "drinks         0\n",
       "drugs          0\n",
       "education      0\n",
       "essay0         0\n",
       "essay1         0\n",
       "essay2         0\n",
       "essay3         0\n",
       "essay4         0\n",
       "essay5         0\n",
       "essay6         0\n",
       "essay7         0\n",
       "essay8         0\n",
       "essay9         0\n",
       "ethnicity      0\n",
       "height         0\n",
       "income         0\n",
       "job            0\n",
       "last_online    0\n",
       "location       0\n",
       "offspring      0\n",
       "orientation    0\n",
       "pets           0\n",
       "religion       0\n",
       "sex            0\n",
       "sign           0\n",
       "smokes         0\n",
       "speaks         0\n",
       "status         0\n",
       "dtype: int64"
      ]
     },
     "execution_count": 15,
     "metadata": {},
     "output_type": "execute_result"
    }
   ],
   "source": [
    "df.isna().sum()"
   ]
  },
  {
   "cell_type": "markdown",
   "metadata": {},
   "source": [
    "## Mapping values "
   ]
  },
  {
   "cell_type": "code",
   "execution_count": 16,
   "metadata": {},
   "outputs": [],
   "source": [
    "df['age_segment'] = pd.cut(df['age'], [0, 18, 23, 29, 39, 49, 59, 69, 120], labels=['0-18', \n",
    "                                                                                    '19-23', \n",
    "                                                                                    '24-29', \n",
    "                                                                                    '30-39', \n",
    "                                                                                    '40-49', \n",
    "                                                                                    '50-59', \n",
    "                                                                                    '60-69', \n",
    "                                                                                    '70 and above'])\n",
    "\n",
    "#print(df.age_segment.value_counts())\n",
    "\n",
    "age_segment_map = {\n",
    "    \"0-18\": 0,\n",
    "    \"19-23\": 1,\n",
    "    \"24-29\": 2,\n",
    "    \"30-39\": 3,    \n",
    "    \"40-49\": 4,\n",
    "    \"50-59\": 5,\n",
    "    \"60-69\": 6,\n",
    "    \"70 and above\": 7\n",
    "}\n",
    "\n",
    "df[\"age_segment_code\"] = df.age_segment.map(age_segment_map)"
   ]
  },
  {
   "cell_type": "code",
   "execution_count": 17,
   "metadata": {},
   "outputs": [],
   "source": [
    "body_type_mapping = {nan_answer: 0, \n",
    "                     \"skinny\": 1, \n",
    "                     \"thin\": 1, \n",
    "                     \"average\": 2, \n",
    "                     \"curvy\": 2, \n",
    "                     \"a little extra\": 3, \n",
    "                     \"full figured\": 3, \n",
    "                     \"overweight\": 3, \n",
    "                     \"used up\": 3, \n",
    "                     \"fit\": 4, \n",
    "                     \"athletic\": 4, \n",
    "                     \"jacked\": 4}\n",
    "                                         \n",
    "df[\"body_type_code\"] = df.body_type.map(body_type_mapping)"
   ]
  },
  {
   "cell_type": "code",
   "execution_count": 18,
   "metadata": {},
   "outputs": [
    {
     "data": {
      "text/plain": [
       "4    24951\n",
       "2    18576\n",
       "1     6488\n",
       "0     5494\n",
       "3     4437\n",
       "Name: body_type_code, dtype: int64"
      ]
     },
     "execution_count": 18,
     "metadata": {},
     "output_type": "execute_result"
    }
   ],
   "source": [
    "df.body_type_code.value_counts()"
   ]
  },
  {
   "cell_type": "code",
   "execution_count": 19,
   "metadata": {},
   "outputs": [
    {
     "data": {
      "text/plain": [
       "rather not say         24395\n",
       "mostly anything        16585\n",
       "anything                6183\n",
       "strictly anything       5113\n",
       "mostly vegetarian       3444\n",
       "mostly other            1007\n",
       "strictly vegetarian      875\n",
       "vegetarian               667\n",
       "strictly other           452\n",
       "mostly vegan             338\n",
       "other                    331\n",
       "strictly vegan           228\n",
       "vegan                    136\n",
       "mostly kosher             86\n",
       "mostly halal              48\n",
       "strictly halal            18\n",
       "strictly kosher           18\n",
       "kosher                    11\n",
       "halal                     11\n",
       "Name: diet, dtype: int64"
      ]
     },
     "execution_count": 19,
     "metadata": {},
     "output_type": "execute_result"
    }
   ],
   "source": [
    "df.diet.value_counts()"
   ]
  },
  {
   "cell_type": "code",
   "execution_count": 20,
   "metadata": {},
   "outputs": [],
   "source": [
    "diet_strictness = lambda strictness: \"strict\" if \"strictly\" in strictness else \"non-strict\""
   ]
  },
  {
   "cell_type": "code",
   "execution_count": 21,
   "metadata": {},
   "outputs": [],
   "source": [
    "df[\"diet_strictness\"] = df[\"diet\"].apply(diet_strictness)"
   ]
  },
  {
   "cell_type": "code",
   "execution_count": 22,
   "metadata": {},
   "outputs": [],
   "source": [
    "#df.diet_strictness_code.value_counts()"
   ]
  },
  {
   "cell_type": "code",
   "execution_count": 23,
   "metadata": {},
   "outputs": [],
   "source": [
    "diet_type = lambda diettype: diettype.split(' ')[-1] if diettype != \"rather not say\" else \"rather not say\""
   ]
  },
  {
   "cell_type": "code",
   "execution_count": 24,
   "metadata": {},
   "outputs": [],
   "source": [
    "df[\"diet_type\"] = df[\"diet\"].apply(diet_type)"
   ]
  },
  {
   "cell_type": "code",
   "execution_count": 25,
   "metadata": {},
   "outputs": [],
   "source": [
    "diet_segment_map = {\"rather not say\": \"rather not say\",\n",
    "                    \"anything\": \"anything\",\n",
    "                    \"other\" : \"other\",\n",
    "                    \"vegetarian\": \"veggie\",\n",
    "                    \"vegan\": \"veggie\",\n",
    "                    \"kosher\": \"religous\",\n",
    "                    \"halal\": \"religous\",\n",
    "                   }\n",
    "\n",
    "df[\"diet_type\"] = df.diet_type.map(diet_segment_map)"
   ]
  },
  {
   "cell_type": "code",
   "execution_count": 216,
   "metadata": {},
   "outputs": [
    {
     "data": {
      "text/plain": [
       "no                43896\n",
       "rather not say     5512\n",
       "sometimes          3787\n",
       "when drinking      3040\n",
       "yes                2231\n",
       "trying to quit     1480\n",
       "Name: smokes, dtype: int64"
      ]
     },
     "execution_count": 216,
     "metadata": {},
     "output_type": "execute_result"
    }
   ],
   "source": [
    "df.smokes.value_counts()"
   ]
  },
  {
   "cell_type": "code",
   "execution_count": 27,
   "metadata": {},
   "outputs": [],
   "source": [
    "diet_strictness_mapping = {\"non-strict\": 1, \"strict\": 2}\n",
    "df[\"diet_strictness_code\"] = df.diet_strictness.map(diet_strictness_mapping)"
   ]
  },
  {
   "cell_type": "code",
   "execution_count": 28,
   "metadata": {},
   "outputs": [],
   "source": [
    "diet_type_code_map = {\"rather not say\": 0, \n",
    "                      \"anything\": 1,\n",
    "                      \"veggie\": 2,\n",
    "                      \"religous\" : 3,\n",
    "                      \"other\": 4\n",
    "                     }\n",
    "df[\"diet_type_code\"] = df.diet_type.map(diet_type_code_map)"
   ]
  },
  {
   "cell_type": "code",
   "execution_count": 29,
   "metadata": {},
   "outputs": [
    {
     "data": {
      "text/plain": [
       "1    27881\n",
       "0    24395\n",
       "2     5688\n",
       "4     1790\n",
       "3      192\n",
       "Name: diet_type_code, dtype: int64"
      ]
     },
     "execution_count": 29,
     "metadata": {},
     "output_type": "execute_result"
    }
   ],
   "source": [
    "df.diet_type_code.value_counts()"
   ]
  },
  {
   "cell_type": "code",
   "execution_count": 30,
   "metadata": {
    "scrolled": true
   },
   "outputs": [],
   "source": [
    "#df.drugs_code.value_counts()"
   ]
  },
  {
   "cell_type": "code",
   "execution_count": 31,
   "metadata": {},
   "outputs": [],
   "source": [
    "drink_mapping = {\"rather not say\": 0,\n",
    "                 \"not at all\": 1, \n",
    "                 \"rarely\": 2, \n",
    "                 \"socially\": 3, \n",
    "                 \"often\": 4, \n",
    "                 \"very often\": 5, \n",
    "                 \"desperately\": 6}\n",
    "df[\"drinks_code\"] = df.drinks.map(drink_mapping)"
   ]
  },
  {
   "cell_type": "code",
   "execution_count": 32,
   "metadata": {},
   "outputs": [],
   "source": [
    "smokes_mapping = {\"rather not say\": 0,\n",
    "                 \"no\": 1, \n",
    "                 \"when drinking\": 2, \n",
    "                 \"sometimes\": 3, \n",
    "                 \"trying to quit\": 4, \n",
    "                 \"yes\": 5, \n",
    "                 }\n",
    "df[\"smokes_code\"] = df.smokes.map(smokes_mapping)"
   ]
  },
  {
   "cell_type": "code",
   "execution_count": 33,
   "metadata": {},
   "outputs": [],
   "source": [
    "drugs_mapping = {\"rather not say\": 0,\n",
    "                 \"never\": 1, \n",
    "                 \"sometimes\": 2, \n",
    "                 \"often\": 3, \n",
    "                 }\n",
    "df[\"drugs_code\"] = df.drugs.map(drugs_mapping)"
   ]
  },
  {
   "cell_type": "code",
   "execution_count": 34,
   "metadata": {},
   "outputs": [],
   "source": [
    "#df.education_status_code.value_counts()"
   ]
  },
  {
   "cell_type": "code",
   "execution_count": 35,
   "metadata": {},
   "outputs": [],
   "source": [
    "def education_classification(edu_string):\n",
    "    status = \"\"\n",
    "    level = \"\"\n",
    "    if \"rather\" in edu_string:\n",
    "        status = \"rather not say\"\n",
    "        level = \"rather not say\"\n",
    "    elif \"working\" in edu_string:\n",
    "        status = \"working\"\n",
    "    elif \"dropped\" in edu_string:\n",
    "        status = \"drop-out\"\n",
    "    else:\n",
    "        status = \"graduated\"\n",
    "    if \"college\" in edu_string or \"university\" in edu_string or \"master\" in edu_string or \"ph.d\" in edu_string or \"law\" in edu_string or \"med\" in edu_string:\n",
    "        level = \"high education\"\n",
    "    elif \"high school\" in edu_string or \"space\" in edu_string:\n",
    "        level = \"low education\"\n",
    "    return pd.Series([status, level])"
   ]
  },
  {
   "cell_type": "code",
   "execution_count": 36,
   "metadata": {},
   "outputs": [
    {
     "data": {
      "text/plain": [
       "0          drop-out\n",
       "1    high education\n",
       "dtype: object"
      ]
     },
     "execution_count": 36,
     "metadata": {},
     "output_type": "execute_result"
    }
   ],
   "source": [
    "education_classification(\"dropped out of two-year college\")"
   ]
  },
  {
   "cell_type": "code",
   "execution_count": 37,
   "metadata": {},
   "outputs": [],
   "source": [
    "df[['education_status','education_level']] = df.apply(lambda row: education_classification(row['education']), axis=1)"
   ]
  },
  {
   "cell_type": "code",
   "execution_count": 38,
   "metadata": {},
   "outputs": [],
   "source": [
    "education_level_mapping = {\"rather not say\": 0,\n",
    "                           \"low education\": 1,\n",
    "                           \"high education\": 2, \n",
    "                          }\n",
    "df[\"education_level_code\"] = df.education_level.map(education_level_mapping)"
   ]
  },
  {
   "cell_type": "code",
   "execution_count": 39,
   "metadata": {},
   "outputs": [],
   "source": [
    "education_status_mapping = {\"rather not say\": 0,\n",
    "                            \"drop-out\": 1,\n",
    "                            \"working\": 2,\n",
    "                            \"graduated\" : 3,\n",
    "                          } \n",
    "df[\"education_status_code\"] = df.education_status.map(education_status_mapping)"
   ]
  },
  {
   "cell_type": "code",
   "execution_count": 40,
   "metadata": {},
   "outputs": [],
   "source": [
    "#df.job_segment.value_counts()"
   ]
  },
  {
   "cell_type": "code",
   "execution_count": 41,
   "metadata": {},
   "outputs": [],
   "source": [
    "def job_classification(jobtext):\n",
    "    job = \"\"\n",
    "    if \"rather\" in jobtext:\n",
    "        job = \"rather not say\"\n",
    "    elif \"other\" in jobtext or \"military\" in jobtext:\n",
    "        job = \"other\"\n",
    "    elif \"student\" in jobtext:\n",
    "        job = \"student\"\n",
    "    elif \"unemployed\" in jobtext:\n",
    "        job = \"unemployed\"\n",
    "    elif \"retired\" in jobtext:\n",
    "        job = \"retired\"\n",
    "    else:\n",
    "        job = \"employed\"\n",
    "    return job"
   ]
  },
  {
   "cell_type": "code",
   "execution_count": 42,
   "metadata": {},
   "outputs": [],
   "source": [
    "df['job_segment'] = df.apply(lambda row: job_classification(row['job']), axis=1)"
   ]
  },
  {
   "cell_type": "code",
   "execution_count": 43,
   "metadata": {},
   "outputs": [],
   "source": [
    "job_segment_mapping = {\"rather not say\": 0,\n",
    "                       \"employed\": 1,\n",
    "                       \"student\": 2,\n",
    "                       \"retired\": 3,\n",
    "                       \"unemployed\": 4,\n",
    "                       \"other\": 5,\n",
    "                       } \n",
    "df[\"job_segment_code\"] = df.job_segment.map(job_segment_mapping)"
   ]
  },
  {
   "cell_type": "code",
   "execution_count": 44,
   "metadata": {},
   "outputs": [],
   "source": [
    "def kids_classification(kidstext):\n",
    "    kidstext_first = kidstext.split(' ')[0]\n",
    "    kids = \"\"\n",
    "    kidscode = 0\n",
    "    if kidstext_first == \"rather\":\n",
    "        kids = \"rather not say\"\n",
    "        kidscode = 0\n",
    "    elif kidstext_first == \"has\":\n",
    "        kids = \"yes\"\n",
    "        kidscode = 1\n",
    "    else:\n",
    "        kids = \"no\"\n",
    "        kidscode = 2\n",
    "    return pd.Series([kids, kidscode])"
   ]
  },
  {
   "cell_type": "code",
   "execution_count": 45,
   "metadata": {},
   "outputs": [],
   "source": [
    "df[['kids_segment','kids_segment_code']] = df.apply(lambda row: kids_classification(row['offspring']), axis=1)"
   ]
  },
  {
   "cell_type": "code",
   "execution_count": 46,
   "metadata": {},
   "outputs": [
    {
     "data": {
      "text/plain": [
       "rather not say    35561\n",
       "no                19466\n",
       "yes                4919\n",
       "Name: kids_segment, dtype: int64"
      ]
     },
     "execution_count": 46,
     "metadata": {},
     "output_type": "execute_result"
    }
   ],
   "source": [
    "df.kids_segment.value_counts()"
   ]
  },
  {
   "cell_type": "code",
   "execution_count": 47,
   "metadata": {},
   "outputs": [],
   "source": [
    "#df.orientation_code.value_counts()"
   ]
  },
  {
   "cell_type": "code",
   "execution_count": 48,
   "metadata": {},
   "outputs": [],
   "source": [
    "orientation_mapping = {\"straight\": 1, \n",
    "                       \"gay\": 2,\n",
    "                       \"bisexual\": 3\n",
    "                      }\n",
    "df[\"orientation_code\"] = df.orientation.map(orientation_mapping)"
   ]
  },
  {
   "cell_type": "code",
   "execution_count": 49,
   "metadata": {},
   "outputs": [],
   "source": [
    "#df.pets.value_counts()"
   ]
  },
  {
   "cell_type": "code",
   "execution_count": 50,
   "metadata": {},
   "outputs": [],
   "source": [
    "def pets_classification(petstext):\n",
    "    petstext_first = petstext.split(' ')[0]\n",
    "    pets = \"\"\n",
    "    petscode = 0\n",
    "    if petstext_first == \"rather\":\n",
    "        pets = \"rather not say\"\n",
    "        petscode = 0\n",
    "    elif petstext_first == \"has\":\n",
    "        pets = \"yes\"\n",
    "        petscode = 1\n",
    "    else:\n",
    "        pets = \"no\"\n",
    "        petscode = 2\n",
    "    return pd.Series([pets, petscode])\n",
    "    "
   ]
  },
  {
   "cell_type": "code",
   "execution_count": 51,
   "metadata": {},
   "outputs": [],
   "source": [
    "df[['pets_segment','pets_segment_code']] = df.apply(lambda row: pets_classification(row['pets']), axis=1)"
   ]
  },
  {
   "cell_type": "code",
   "execution_count": 52,
   "metadata": {},
   "outputs": [],
   "source": [
    "#df.religion_segment_code.value_counts()"
   ]
  },
  {
   "cell_type": "code",
   "execution_count": 53,
   "metadata": {},
   "outputs": [],
   "source": [
    "def religion_classification(rel_text):\n",
    "    reltext_first = rel_text.split(' ')[0]\n",
    "    religion = \"\"\n",
    "    religion_code = 0\n",
    "    if reltext_first == \"rather\":\n",
    "        religion = \"rather not say\"\n",
    "        religion_code = 0\n",
    "    elif reltext_first == \"agnosticism\":\n",
    "        religion = \"agnosticism\"\n",
    "        religion_code = 1\n",
    "    elif reltext_first == \"atheism\":\n",
    "        religion = \"atheism\"\n",
    "        religion_code = 2\n",
    "    elif reltext_first == \"christianity\":\n",
    "        religion = \"christianity\"\n",
    "        religion_code = 3\n",
    "    elif reltext_first == \"catholicism\":\n",
    "        religion = \"catholicism\"\n",
    "        religion_code = 4\n",
    "    elif reltext_first == \"judaism\":\n",
    "        religion = \"judaism\"\n",
    "        religion_code = 5\n",
    "    elif reltext_first == \"buddhism\":\n",
    "        religion = \"buddhism\"\n",
    "        religion_code = 6\n",
    "    elif reltext_first == \"hinduism\":\n",
    "        religion = \"hinduism\"\n",
    "        religion_code = 7\n",
    "    elif reltext_first == \"islam\":\n",
    "        religion = \"islam\"\n",
    "        religion_code = 8\n",
    "    else:\n",
    "        religion = \"other\"\n",
    "        petscode = 9\n",
    "    return pd.Series([religion, religion_code])\n",
    "    \n",
    "    "
   ]
  },
  {
   "cell_type": "code",
   "execution_count": 54,
   "metadata": {},
   "outputs": [],
   "source": [
    "df[['religion_segment','religion_segment_code']] = df.apply(lambda row: religion_classification(row['religion']), axis=1)"
   ]
  },
  {
   "cell_type": "code",
   "execution_count": 55,
   "metadata": {},
   "outputs": [
    {
     "data": {
      "text/plain": [
       "m    35829\n",
       "f    24117\n",
       "Name: sex, dtype: int64"
      ]
     },
     "execution_count": 55,
     "metadata": {},
     "output_type": "execute_result"
    }
   ],
   "source": [
    "df.sex.value_counts()"
   ]
  },
  {
   "cell_type": "code",
   "execution_count": 56,
   "metadata": {},
   "outputs": [],
   "source": [
    "df[\"sex_code\"] = df.sex.map({\"m\": 1, \"f\": 2})"
   ]
  },
  {
   "cell_type": "code",
   "execution_count": 57,
   "metadata": {},
   "outputs": [],
   "source": [
    "#df.sign_code.value_counts()"
   ]
  },
  {
   "cell_type": "code",
   "execution_count": 58,
   "metadata": {},
   "outputs": [],
   "source": [
    "sign_mapping = lambda sign: sign.split(' ')[0] if not sign==\"rather not say\" else \"rather not say\""
   ]
  },
  {
   "cell_type": "code",
   "execution_count": 59,
   "metadata": {},
   "outputs": [],
   "source": [
    "df[\"sign_segment\"] = df[\"sign\"].astype(str).apply(sign_mapping)"
   ]
  },
  {
   "cell_type": "code",
   "execution_count": 60,
   "metadata": {},
   "outputs": [],
   "source": [
    "def valuemapping(values_to_map):\n",
    "    values = values_to_map.unique()\n",
    "    mapping = {}\n",
    "    shift = 0\n",
    "    for i, value in enumerate(values, 1):\n",
    "        mapping[value] = i - shift\n",
    "        if value == \"rather not say\":\n",
    "            mapping[value] = 0\n",
    "            shift = 1        \n",
    "    return mapping  "
   ]
  },
  {
   "cell_type": "code",
   "execution_count": 61,
   "metadata": {},
   "outputs": [
    {
     "name": "stdout",
     "output_type": "stream",
     "text": [
      "{'gemini': 1, 'cancer': 2, 'pisces': 3, 'aquarius': 4, 'taurus': 5, 'virgo': 6, 'sagittarius': 7, 'leo': 8, 'rather not say': 0, 'aries': 9, 'libra': 10, 'scorpio': 11, 'capricorn': 12}\n"
     ]
    }
   ],
   "source": [
    "sign_mapping = valuemapping(df.sign_segment)\n",
    "print(sign_mapping)\n",
    "df[\"sign_code\"] = df.sign_segment.map(sign_mapping)"
   ]
  },
  {
   "cell_type": "code",
   "execution_count": 215,
   "metadata": {},
   "outputs": [
    {
     "data": {
      "text/plain": [
       "0     11056\n",
       "8      4374\n",
       "1      4310\n",
       "10     4207\n",
       "2      4206\n",
       "6      4141\n",
       "5      4140\n",
       "11     4134\n",
       "9      3989\n",
       "3      3946\n",
       "7      3942\n",
       "4      3928\n",
       "12     3573\n",
       "Name: sign_code, dtype: int64"
      ]
     },
     "execution_count": 215,
     "metadata": {},
     "output_type": "execute_result"
    }
   ],
   "source": [
    "df.sign_code.value_counts()"
   ]
  },
  {
   "cell_type": "code",
   "execution_count": 62,
   "metadata": {},
   "outputs": [],
   "source": [
    "#df.status_code.value_counts()"
   ]
  },
  {
   "cell_type": "code",
   "execution_count": 63,
   "metadata": {},
   "outputs": [],
   "source": [
    "status_mapping = valuemapping(df.status)\n",
    "df[\"status_code\"] = df.status.map(status_mapping)"
   ]
  },
  {
   "cell_type": "code",
   "execution_count": 64,
   "metadata": {},
   "outputs": [
    {
     "name": "stdout",
     "output_type": "stream",
     "text": [
      "age                         int64\n",
      "body_type                  object\n",
      "diet                       object\n",
      "drinks                     object\n",
      "drugs                      object\n",
      "education                  object\n",
      "essay0                     object\n",
      "essay1                     object\n",
      "essay2                     object\n",
      "essay3                     object\n",
      "essay4                     object\n",
      "essay5                     object\n",
      "essay6                     object\n",
      "essay7                     object\n",
      "essay8                     object\n",
      "essay9                     object\n",
      "ethnicity                  object\n",
      "height                    float64\n",
      "income                      int64\n",
      "job                        object\n",
      "last_online                object\n",
      "location                   object\n",
      "offspring                  object\n",
      "orientation                object\n",
      "pets                       object\n",
      "religion                   object\n",
      "sex                        object\n",
      "sign                       object\n",
      "smokes                     object\n",
      "speaks                     object\n",
      "status                     object\n",
      "age_segment              category\n",
      "age_segment_code            int64\n",
      "body_type_code              int64\n",
      "diet_strictness            object\n",
      "diet_type                  object\n",
      "diet_strictness_code        int64\n",
      "diet_type_code              int64\n",
      "drinks_code                 int64\n",
      "smokes_code                 int64\n",
      "drugs_code                  int64\n",
      "education_status           object\n",
      "education_level            object\n",
      "education_level_code        int64\n",
      "education_status_code       int64\n",
      "job_segment                object\n",
      "job_segment_code            int64\n",
      "kids_segment               object\n",
      "kids_segment_code           int64\n",
      "orientation_code            int64\n",
      "pets_segment               object\n",
      "pets_segment_code           int64\n",
      "religion_segment           object\n",
      "religion_segment_code       int64\n",
      "sex_code                    int64\n",
      "sign_segment               object\n",
      "sign_code                   int64\n",
      "status_code                 int64\n",
      "dtype: object\n"
     ]
    }
   ],
   "source": [
    "print(df.dtypes)"
   ]
  },
  {
   "cell_type": "code",
   "execution_count": 65,
   "metadata": {},
   "outputs": [],
   "source": [
    "def essayanalysis(text):\n",
    "    text = text.replace(\"<br />\", ' ')\n",
    "    text = text.replace(\"\\n\", ' ')\n",
    "    for char in '-.,:?/+!':\n",
    "        text=text.replace(char,' ')\n",
    "    text = text.lower()\n",
    "    word_list = text.split()\n",
    "    #print(word_list)\n",
    "    text_length = len(word_list)\n",
    "    wordlength = []\n",
    "    imecount = 0\n",
    "    iwords = [\"i\", \"i'm\", \"me\"]\n",
    "    for word in word_list:\n",
    "        wordlength.append(len(word))\n",
    "        if word in iwords:\n",
    "            imecount +=1\n",
    "            #print(word)\n",
    "    if len(word_list) != 0:\n",
    "        avgwordlength = sum(wordlength) / len(word_list)\n",
    "    else:\n",
    "        avgwordlength = 0\n",
    "    #return text_length#, avgwordlength, imecount\n",
    "    return pd.Series([text_length, avgwordlength, imecount])"
   ]
  },
  {
   "cell_type": "code",
   "execution_count": 66,
   "metadata": {},
   "outputs": [],
   "source": [
    "essay_selection = 'all'\n",
    "if essay_selection == 'all':\n",
    "    df[['text_length','avg_word_length', 'i_me_count']] = df.apply(lambda row: essayanalysis(row['essay0'] + ' ' \n",
    "                                                                                             + row['essay1'] + ' ' \n",
    "                                                                                             + row['essay2'] + ' ' \n",
    "                                                                                             + row['essay3'] + ' ' \n",
    "                                                                                             + row['essay4'] + ' ' \n",
    "                                                                                             + row['essay5'] + ' ' \n",
    "                                                                                             + row['essay6'] + ' ' \n",
    "                                                                                             + row['essay7'] + ' ' \n",
    "                                                                                             + row['essay8'] + ' ' \n",
    "                                                                                             + row['essay9']), axis=1)\n",
    "elif essay_selection == 'first4':\n",
    "    df[['text_length','avg_word_length', 'i_me_count']] = df.apply(lambda row: essayanalysis(row['essay0'] + ' ' \n",
    "                                                                                             + row['essay1'] + ' ' \n",
    "                                                                                             + row['essay2'] + ' ' \n",
    "                                                                                             + row['essay3']), axis=1)\n",
    "elif essay_selection == 'first1':\n",
    "    df[['text_length','avg_word_length', 'i_me_count']] = df.apply(lambda row: essayanalysis(row['essay0']), axis=1)\n",
    "    "
   ]
  },
  {
   "cell_type": "code",
   "execution_count": 67,
   "metadata": {},
   "outputs": [],
   "source": [
    "df['i_me_frequency'] = df.apply((lambda row: row['i_me_count']/row['text_length'] if row['text_length'] != 0 \n",
    "                                 else 0), axis=1)"
   ]
  },
  {
   "cell_type": "code",
   "execution_count": 68,
   "metadata": {},
   "outputs": [
    {
     "data": {
      "text/html": [
       "<div>\n",
       "<style scoped>\n",
       "    .dataframe tbody tr th:only-of-type {\n",
       "        vertical-align: middle;\n",
       "    }\n",
       "\n",
       "    .dataframe tbody tr th {\n",
       "        vertical-align: top;\n",
       "    }\n",
       "\n",
       "    .dataframe thead th {\n",
       "        text-align: right;\n",
       "    }\n",
       "</style>\n",
       "<table border=\"1\" class=\"dataframe\">\n",
       "  <thead>\n",
       "    <tr style=\"text-align: right;\">\n",
       "      <th></th>\n",
       "      <th>age</th>\n",
       "      <th>height</th>\n",
       "      <th>income</th>\n",
       "      <th>age_segment_code</th>\n",
       "      <th>body_type_code</th>\n",
       "      <th>diet_strictness_code</th>\n",
       "      <th>diet_type_code</th>\n",
       "      <th>drinks_code</th>\n",
       "      <th>smokes_code</th>\n",
       "      <th>drugs_code</th>\n",
       "      <th>...</th>\n",
       "      <th>orientation_code</th>\n",
       "      <th>pets_segment_code</th>\n",
       "      <th>religion_segment_code</th>\n",
       "      <th>sex_code</th>\n",
       "      <th>sign_code</th>\n",
       "      <th>status_code</th>\n",
       "      <th>text_length</th>\n",
       "      <th>avg_word_length</th>\n",
       "      <th>i_me_count</th>\n",
       "      <th>i_me_frequency</th>\n",
       "    </tr>\n",
       "  </thead>\n",
       "  <tbody>\n",
       "    <tr>\n",
       "      <th>age</th>\n",
       "      <td>1.000000</td>\n",
       "      <td>-0.022261</td>\n",
       "      <td>-0.001004</td>\n",
       "      <td>0.954291</td>\n",
       "      <td>0.073452</td>\n",
       "      <td>-0.088278</td>\n",
       "      <td>-0.017179</td>\n",
       "      <td>-0.069625</td>\n",
       "      <td>-0.099990</td>\n",
       "      <td>-0.039432</td>\n",
       "      <td>...</td>\n",
       "      <td>-0.062062</td>\n",
       "      <td>0.017658</td>\n",
       "      <td>0.039176</td>\n",
       "      <td>0.041481</td>\n",
       "      <td>-0.000621</td>\n",
       "      <td>-0.019273</td>\n",
       "      <td>0.084697</td>\n",
       "      <td>-0.002679</td>\n",
       "      <td>0.047500</td>\n",
       "      <td>-0.060695</td>\n",
       "    </tr>\n",
       "    <tr>\n",
       "      <th>height</th>\n",
       "      <td>-0.022261</td>\n",
       "      <td>1.000000</td>\n",
       "      <td>0.065049</td>\n",
       "      <td>-0.015299</td>\n",
       "      <td>0.154441</td>\n",
       "      <td>0.048581</td>\n",
       "      <td>-0.009926</td>\n",
       "      <td>0.017491</td>\n",
       "      <td>0.028982</td>\n",
       "      <td>0.010130</td>\n",
       "      <td>...</td>\n",
       "      <td>-0.060390</td>\n",
       "      <td>-0.014121</td>\n",
       "      <td>-0.055109</td>\n",
       "      <td>-0.655432</td>\n",
       "      <td>-0.042157</td>\n",
       "      <td>-0.004783</td>\n",
       "      <td>0.005464</td>\n",
       "      <td>0.003960</td>\n",
       "      <td>-0.025343</td>\n",
       "      <td>-0.052468</td>\n",
       "    </tr>\n",
       "    <tr>\n",
       "      <th>income</th>\n",
       "      <td>-0.001004</td>\n",
       "      <td>0.065049</td>\n",
       "      <td>1.000000</td>\n",
       "      <td>-0.000756</td>\n",
       "      <td>0.041570</td>\n",
       "      <td>0.044898</td>\n",
       "      <td>0.047049</td>\n",
       "      <td>0.041435</td>\n",
       "      <td>0.038428</td>\n",
       "      <td>0.056074</td>\n",
       "      <td>...</td>\n",
       "      <td>-0.003397</td>\n",
       "      <td>0.034130</td>\n",
       "      <td>0.011486</td>\n",
       "      <td>-0.074601</td>\n",
       "      <td>0.010958</td>\n",
       "      <td>0.013096</td>\n",
       "      <td>0.007456</td>\n",
       "      <td>0.003995</td>\n",
       "      <td>-0.002128</td>\n",
       "      <td>-0.012062</td>\n",
       "    </tr>\n",
       "    <tr>\n",
       "      <th>age_segment_code</th>\n",
       "      <td>0.954291</td>\n",
       "      <td>-0.015299</td>\n",
       "      <td>-0.000756</td>\n",
       "      <td>1.000000</td>\n",
       "      <td>0.074256</td>\n",
       "      <td>-0.083110</td>\n",
       "      <td>-0.022597</td>\n",
       "      <td>-0.057467</td>\n",
       "      <td>-0.107474</td>\n",
       "      <td>-0.051103</td>\n",
       "      <td>...</td>\n",
       "      <td>-0.070650</td>\n",
       "      <td>0.020607</td>\n",
       "      <td>0.034954</td>\n",
       "      <td>0.033039</td>\n",
       "      <td>-0.001844</td>\n",
       "      <td>-0.015651</td>\n",
       "      <td>0.092834</td>\n",
       "      <td>0.000365</td>\n",
       "      <td>0.054522</td>\n",
       "      <td>-0.062382</td>\n",
       "    </tr>\n",
       "    <tr>\n",
       "      <th>body_type_code</th>\n",
       "      <td>0.073452</td>\n",
       "      <td>0.154441</td>\n",
       "      <td>0.041570</td>\n",
       "      <td>0.074256</td>\n",
       "      <td>1.000000</td>\n",
       "      <td>0.027561</td>\n",
       "      <td>0.090063</td>\n",
       "      <td>0.028542</td>\n",
       "      <td>-0.053882</td>\n",
       "      <td>-0.013487</td>\n",
       "      <td>...</td>\n",
       "      <td>-0.067904</td>\n",
       "      <td>0.009540</td>\n",
       "      <td>0.007765</td>\n",
       "      <td>-0.196917</td>\n",
       "      <td>0.001759</td>\n",
       "      <td>-0.082319</td>\n",
       "      <td>-0.015213</td>\n",
       "      <td>0.000777</td>\n",
       "      <td>-0.023994</td>\n",
       "      <td>-0.022655</td>\n",
       "    </tr>\n",
       "    <tr>\n",
       "      <th>diet_strictness_code</th>\n",
       "      <td>-0.088278</td>\n",
       "      <td>0.048581</td>\n",
       "      <td>0.044898</td>\n",
       "      <td>-0.083110</td>\n",
       "      <td>0.027561</td>\n",
       "      <td>1.000000</td>\n",
       "      <td>0.245414</td>\n",
       "      <td>0.057837</td>\n",
       "      <td>0.036285</td>\n",
       "      <td>0.025515</td>\n",
       "      <td>...</td>\n",
       "      <td>0.009107</td>\n",
       "      <td>0.072153</td>\n",
       "      <td>-0.000223</td>\n",
       "      <td>-0.049340</td>\n",
       "      <td>0.009952</td>\n",
       "      <td>0.010451</td>\n",
       "      <td>0.060356</td>\n",
       "      <td>0.020328</td>\n",
       "      <td>0.043770</td>\n",
       "      <td>-0.015967</td>\n",
       "    </tr>\n",
       "    <tr>\n",
       "      <th>diet_type_code</th>\n",
       "      <td>-0.017179</td>\n",
       "      <td>-0.009926</td>\n",
       "      <td>0.047049</td>\n",
       "      <td>-0.022597</td>\n",
       "      <td>0.090063</td>\n",
       "      <td>0.245414</td>\n",
       "      <td>1.000000</td>\n",
       "      <td>0.033308</td>\n",
       "      <td>0.032994</td>\n",
       "      <td>0.029611</td>\n",
       "      <td>...</td>\n",
       "      <td>0.019662</td>\n",
       "      <td>0.111456</td>\n",
       "      <td>0.045601</td>\n",
       "      <td>0.033537</td>\n",
       "      <td>0.051212</td>\n",
       "      <td>-0.022408</td>\n",
       "      <td>0.058964</td>\n",
       "      <td>0.009534</td>\n",
       "      <td>0.046325</td>\n",
       "      <td>-0.016490</td>\n",
       "    </tr>\n",
       "    <tr>\n",
       "      <th>drinks_code</th>\n",
       "      <td>-0.069625</td>\n",
       "      <td>0.017491</td>\n",
       "      <td>0.041435</td>\n",
       "      <td>-0.057467</td>\n",
       "      <td>0.028542</td>\n",
       "      <td>0.057837</td>\n",
       "      <td>0.033308</td>\n",
       "      <td>1.000000</td>\n",
       "      <td>0.193725</td>\n",
       "      <td>0.108036</td>\n",
       "      <td>...</td>\n",
       "      <td>-0.004223</td>\n",
       "      <td>0.103184</td>\n",
       "      <td>0.037869</td>\n",
       "      <td>0.004324</td>\n",
       "      <td>0.063545</td>\n",
       "      <td>0.013083</td>\n",
       "      <td>0.030395</td>\n",
       "      <td>0.012158</td>\n",
       "      <td>0.026461</td>\n",
       "      <td>0.000344</td>\n",
       "    </tr>\n",
       "    <tr>\n",
       "      <th>smokes_code</th>\n",
       "      <td>-0.099990</td>\n",
       "      <td>0.028982</td>\n",
       "      <td>0.038428</td>\n",
       "      <td>-0.107474</td>\n",
       "      <td>-0.053882</td>\n",
       "      <td>0.036285</td>\n",
       "      <td>0.032994</td>\n",
       "      <td>0.193725</td>\n",
       "      <td>1.000000</td>\n",
       "      <td>0.201836</td>\n",
       "      <td>...</td>\n",
       "      <td>0.075215</td>\n",
       "      <td>0.059704</td>\n",
       "      <td>0.012797</td>\n",
       "      <td>-0.030984</td>\n",
       "      <td>0.076599</td>\n",
       "      <td>0.015107</td>\n",
       "      <td>-0.019736</td>\n",
       "      <td>-0.009342</td>\n",
       "      <td>-0.008798</td>\n",
       "      <td>0.023617</td>\n",
       "    </tr>\n",
       "    <tr>\n",
       "      <th>drugs_code</th>\n",
       "      <td>-0.039432</td>\n",
       "      <td>0.010130</td>\n",
       "      <td>0.056074</td>\n",
       "      <td>-0.051103</td>\n",
       "      <td>-0.013487</td>\n",
       "      <td>0.025515</td>\n",
       "      <td>0.029611</td>\n",
       "      <td>0.108036</td>\n",
       "      <td>0.201836</td>\n",
       "      <td>1.000000</td>\n",
       "      <td>...</td>\n",
       "      <td>0.054849</td>\n",
       "      <td>0.028297</td>\n",
       "      <td>0.042105</td>\n",
       "      <td>-0.015948</td>\n",
       "      <td>0.029077</td>\n",
       "      <td>0.040071</td>\n",
       "      <td>-0.015871</td>\n",
       "      <td>-0.013573</td>\n",
       "      <td>-0.002039</td>\n",
       "      <td>0.022593</td>\n",
       "    </tr>\n",
       "    <tr>\n",
       "      <th>education_level_code</th>\n",
       "      <td>0.006433</td>\n",
       "      <td>-0.025411</td>\n",
       "      <td>0.004897</td>\n",
       "      <td>0.015744</td>\n",
       "      <td>0.053180</td>\n",
       "      <td>0.024635</td>\n",
       "      <td>0.077178</td>\n",
       "      <td>0.144148</td>\n",
       "      <td>-0.048571</td>\n",
       "      <td>-0.008329</td>\n",
       "      <td>...</td>\n",
       "      <td>-0.013679</td>\n",
       "      <td>0.155480</td>\n",
       "      <td>0.113045</td>\n",
       "      <td>0.050356</td>\n",
       "      <td>0.077081</td>\n",
       "      <td>0.003079</td>\n",
       "      <td>0.122049</td>\n",
       "      <td>0.045626</td>\n",
       "      <td>0.104554</td>\n",
       "      <td>-0.009040</td>\n",
       "    </tr>\n",
       "    <tr>\n",
       "      <th>education_status_code</th>\n",
       "      <td>0.092458</td>\n",
       "      <td>-0.027117</td>\n",
       "      <td>0.010238</td>\n",
       "      <td>0.107893</td>\n",
       "      <td>0.074524</td>\n",
       "      <td>0.005596</td>\n",
       "      <td>0.061445</td>\n",
       "      <td>0.130862</td>\n",
       "      <td>-0.069453</td>\n",
       "      <td>-0.030717</td>\n",
       "      <td>...</td>\n",
       "      <td>-0.049275</td>\n",
       "      <td>0.132034</td>\n",
       "      <td>0.105311</td>\n",
       "      <td>0.046577</td>\n",
       "      <td>0.067352</td>\n",
       "      <td>-0.024062</td>\n",
       "      <td>0.085165</td>\n",
       "      <td>0.035899</td>\n",
       "      <td>0.066540</td>\n",
       "      <td>-0.018740</td>\n",
       "    </tr>\n",
       "    <tr>\n",
       "      <th>job_segment_code</th>\n",
       "      <td>-0.012034</td>\n",
       "      <td>-0.030217</td>\n",
       "      <td>0.003116</td>\n",
       "      <td>-0.021634</td>\n",
       "      <td>-0.001481</td>\n",
       "      <td>0.015873</td>\n",
       "      <td>0.060530</td>\n",
       "      <td>0.045022</td>\n",
       "      <td>0.081593</td>\n",
       "      <td>0.047617</td>\n",
       "      <td>...</td>\n",
       "      <td>0.028856</td>\n",
       "      <td>0.087348</td>\n",
       "      <td>0.033985</td>\n",
       "      <td>0.046046</td>\n",
       "      <td>0.077208</td>\n",
       "      <td>0.005854</td>\n",
       "      <td>0.040606</td>\n",
       "      <td>0.014125</td>\n",
       "      <td>0.052123</td>\n",
       "      <td>0.044297</td>\n",
       "    </tr>\n",
       "    <tr>\n",
       "      <th>kids_segment_code</th>\n",
       "      <td>0.041466</td>\n",
       "      <td>-0.024550</td>\n",
       "      <td>0.016708</td>\n",
       "      <td>0.034375</td>\n",
       "      <td>0.039566</td>\n",
       "      <td>0.057780</td>\n",
       "      <td>0.185124</td>\n",
       "      <td>0.044212</td>\n",
       "      <td>0.039383</td>\n",
       "      <td>0.038959</td>\n",
       "      <td>...</td>\n",
       "      <td>-0.024524</td>\n",
       "      <td>0.140645</td>\n",
       "      <td>0.050859</td>\n",
       "      <td>0.059153</td>\n",
       "      <td>0.053571</td>\n",
       "      <td>-0.039683</td>\n",
       "      <td>0.046575</td>\n",
       "      <td>-0.002759</td>\n",
       "      <td>0.044607</td>\n",
       "      <td>0.006314</td>\n",
       "    </tr>\n",
       "    <tr>\n",
       "      <th>orientation_code</th>\n",
       "      <td>-0.062062</td>\n",
       "      <td>-0.060390</td>\n",
       "      <td>-0.003397</td>\n",
       "      <td>-0.070650</td>\n",
       "      <td>-0.067904</td>\n",
       "      <td>0.009107</td>\n",
       "      <td>0.019662</td>\n",
       "      <td>-0.004223</td>\n",
       "      <td>0.075215</td>\n",
       "      <td>0.054849</td>\n",
       "      <td>...</td>\n",
       "      <td>1.000000</td>\n",
       "      <td>0.042769</td>\n",
       "      <td>-0.023187</td>\n",
       "      <td>0.076664</td>\n",
       "      <td>0.032429</td>\n",
       "      <td>0.151497</td>\n",
       "      <td>0.094878</td>\n",
       "      <td>0.016632</td>\n",
       "      <td>0.084785</td>\n",
       "      <td>0.004751</td>\n",
       "    </tr>\n",
       "    <tr>\n",
       "      <th>pets_segment_code</th>\n",
       "      <td>0.017658</td>\n",
       "      <td>-0.014121</td>\n",
       "      <td>0.034130</td>\n",
       "      <td>0.020607</td>\n",
       "      <td>0.009540</td>\n",
       "      <td>0.072153</td>\n",
       "      <td>0.111456</td>\n",
       "      <td>0.103184</td>\n",
       "      <td>0.059704</td>\n",
       "      <td>0.028297</td>\n",
       "      <td>...</td>\n",
       "      <td>0.042769</td>\n",
       "      <td>1.000000</td>\n",
       "      <td>0.071073</td>\n",
       "      <td>0.041397</td>\n",
       "      <td>0.129845</td>\n",
       "      <td>0.048303</td>\n",
       "      <td>0.189514</td>\n",
       "      <td>0.040042</td>\n",
       "      <td>0.176254</td>\n",
       "      <td>0.021987</td>\n",
       "    </tr>\n",
       "    <tr>\n",
       "      <th>religion_segment_code</th>\n",
       "      <td>0.039176</td>\n",
       "      <td>-0.055109</td>\n",
       "      <td>0.011486</td>\n",
       "      <td>0.034954</td>\n",
       "      <td>0.007765</td>\n",
       "      <td>-0.000223</td>\n",
       "      <td>0.045601</td>\n",
       "      <td>0.037869</td>\n",
       "      <td>0.012797</td>\n",
       "      <td>0.042105</td>\n",
       "      <td>...</td>\n",
       "      <td>-0.023187</td>\n",
       "      <td>0.071073</td>\n",
       "      <td>1.000000</td>\n",
       "      <td>0.016890</td>\n",
       "      <td>0.072940</td>\n",
       "      <td>-0.003524</td>\n",
       "      <td>0.022666</td>\n",
       "      <td>-0.000190</td>\n",
       "      <td>0.028625</td>\n",
       "      <td>0.024749</td>\n",
       "    </tr>\n",
       "    <tr>\n",
       "      <th>sex_code</th>\n",
       "      <td>0.041481</td>\n",
       "      <td>-0.655432</td>\n",
       "      <td>-0.074601</td>\n",
       "      <td>0.033039</td>\n",
       "      <td>-0.196917</td>\n",
       "      <td>-0.049340</td>\n",
       "      <td>0.033537</td>\n",
       "      <td>0.004324</td>\n",
       "      <td>-0.030984</td>\n",
       "      <td>-0.015948</td>\n",
       "      <td>...</td>\n",
       "      <td>0.076664</td>\n",
       "      <td>0.041397</td>\n",
       "      <td>0.016890</td>\n",
       "      <td>1.000000</td>\n",
       "      <td>0.042504</td>\n",
       "      <td>0.021189</td>\n",
       "      <td>0.012783</td>\n",
       "      <td>-0.004226</td>\n",
       "      <td>0.055297</td>\n",
       "      <td>0.068262</td>\n",
       "    </tr>\n",
       "    <tr>\n",
       "      <th>sign_code</th>\n",
       "      <td>-0.000621</td>\n",
       "      <td>-0.042157</td>\n",
       "      <td>0.010958</td>\n",
       "      <td>-0.001844</td>\n",
       "      <td>0.001759</td>\n",
       "      <td>0.009952</td>\n",
       "      <td>0.051212</td>\n",
       "      <td>0.063545</td>\n",
       "      <td>0.076599</td>\n",
       "      <td>0.029077</td>\n",
       "      <td>...</td>\n",
       "      <td>0.032429</td>\n",
       "      <td>0.129845</td>\n",
       "      <td>0.072940</td>\n",
       "      <td>0.042504</td>\n",
       "      <td>1.000000</td>\n",
       "      <td>0.008298</td>\n",
       "      <td>0.062400</td>\n",
       "      <td>0.015530</td>\n",
       "      <td>0.069032</td>\n",
       "      <td>0.029023</td>\n",
       "    </tr>\n",
       "    <tr>\n",
       "      <th>status_code</th>\n",
       "      <td>-0.019273</td>\n",
       "      <td>-0.004783</td>\n",
       "      <td>0.013096</td>\n",
       "      <td>-0.015651</td>\n",
       "      <td>-0.082319</td>\n",
       "      <td>0.010451</td>\n",
       "      <td>-0.022408</td>\n",
       "      <td>0.013083</td>\n",
       "      <td>0.015107</td>\n",
       "      <td>0.040071</td>\n",
       "      <td>...</td>\n",
       "      <td>0.151497</td>\n",
       "      <td>0.048303</td>\n",
       "      <td>-0.003524</td>\n",
       "      <td>0.021189</td>\n",
       "      <td>0.008298</td>\n",
       "      <td>1.000000</td>\n",
       "      <td>0.122756</td>\n",
       "      <td>0.035229</td>\n",
       "      <td>0.099863</td>\n",
       "      <td>-0.002420</td>\n",
       "    </tr>\n",
       "    <tr>\n",
       "      <th>text_length</th>\n",
       "      <td>0.084697</td>\n",
       "      <td>0.005464</td>\n",
       "      <td>0.007456</td>\n",
       "      <td>0.092834</td>\n",
       "      <td>-0.015213</td>\n",
       "      <td>0.060356</td>\n",
       "      <td>0.058964</td>\n",
       "      <td>0.030395</td>\n",
       "      <td>-0.019736</td>\n",
       "      <td>-0.015871</td>\n",
       "      <td>...</td>\n",
       "      <td>0.094878</td>\n",
       "      <td>0.189514</td>\n",
       "      <td>0.022666</td>\n",
       "      <td>0.012783</td>\n",
       "      <td>0.062400</td>\n",
       "      <td>0.122756</td>\n",
       "      <td>1.000000</td>\n",
       "      <td>0.098343</td>\n",
       "      <td>0.860773</td>\n",
       "      <td>0.066430</td>\n",
       "    </tr>\n",
       "    <tr>\n",
       "      <th>avg_word_length</th>\n",
       "      <td>-0.002679</td>\n",
       "      <td>0.003960</td>\n",
       "      <td>0.003995</td>\n",
       "      <td>0.000365</td>\n",
       "      <td>0.000777</td>\n",
       "      <td>0.020328</td>\n",
       "      <td>0.009534</td>\n",
       "      <td>0.012158</td>\n",
       "      <td>-0.009342</td>\n",
       "      <td>-0.013573</td>\n",
       "      <td>...</td>\n",
       "      <td>0.016632</td>\n",
       "      <td>0.040042</td>\n",
       "      <td>-0.000190</td>\n",
       "      <td>-0.004226</td>\n",
       "      <td>0.015530</td>\n",
       "      <td>0.035229</td>\n",
       "      <td>0.098343</td>\n",
       "      <td>1.000000</td>\n",
       "      <td>0.052426</td>\n",
       "      <td>0.040624</td>\n",
       "    </tr>\n",
       "    <tr>\n",
       "      <th>i_me_count</th>\n",
       "      <td>0.047500</td>\n",
       "      <td>-0.025343</td>\n",
       "      <td>-0.002128</td>\n",
       "      <td>0.054522</td>\n",
       "      <td>-0.023994</td>\n",
       "      <td>0.043770</td>\n",
       "      <td>0.046325</td>\n",
       "      <td>0.026461</td>\n",
       "      <td>-0.008798</td>\n",
       "      <td>-0.002039</td>\n",
       "      <td>...</td>\n",
       "      <td>0.084785</td>\n",
       "      <td>0.176254</td>\n",
       "      <td>0.028625</td>\n",
       "      <td>0.055297</td>\n",
       "      <td>0.069032</td>\n",
       "      <td>0.099863</td>\n",
       "      <td>0.860773</td>\n",
       "      <td>0.052426</td>\n",
       "      <td>1.000000</td>\n",
       "      <td>0.346128</td>\n",
       "    </tr>\n",
       "    <tr>\n",
       "      <th>i_me_frequency</th>\n",
       "      <td>-0.060695</td>\n",
       "      <td>-0.052468</td>\n",
       "      <td>-0.012062</td>\n",
       "      <td>-0.062382</td>\n",
       "      <td>-0.022655</td>\n",
       "      <td>-0.015967</td>\n",
       "      <td>-0.016490</td>\n",
       "      <td>0.000344</td>\n",
       "      <td>0.023617</td>\n",
       "      <td>0.022593</td>\n",
       "      <td>...</td>\n",
       "      <td>0.004751</td>\n",
       "      <td>0.021987</td>\n",
       "      <td>0.024749</td>\n",
       "      <td>0.068262</td>\n",
       "      <td>0.029023</td>\n",
       "      <td>-0.002420</td>\n",
       "      <td>0.066430</td>\n",
       "      <td>0.040624</td>\n",
       "      <td>0.346128</td>\n",
       "      <td>1.000000</td>\n",
       "    </tr>\n",
       "  </tbody>\n",
       "</table>\n",
       "<p>24 rows × 24 columns</p>\n",
       "</div>"
      ],
      "text/plain": [
       "                            age    height    income  age_segment_code  \\\n",
       "age                    1.000000 -0.022261 -0.001004          0.954291   \n",
       "height                -0.022261  1.000000  0.065049         -0.015299   \n",
       "income                -0.001004  0.065049  1.000000         -0.000756   \n",
       "age_segment_code       0.954291 -0.015299 -0.000756          1.000000   \n",
       "body_type_code         0.073452  0.154441  0.041570          0.074256   \n",
       "diet_strictness_code  -0.088278  0.048581  0.044898         -0.083110   \n",
       "diet_type_code        -0.017179 -0.009926  0.047049         -0.022597   \n",
       "drinks_code           -0.069625  0.017491  0.041435         -0.057467   \n",
       "smokes_code           -0.099990  0.028982  0.038428         -0.107474   \n",
       "drugs_code            -0.039432  0.010130  0.056074         -0.051103   \n",
       "education_level_code   0.006433 -0.025411  0.004897          0.015744   \n",
       "education_status_code  0.092458 -0.027117  0.010238          0.107893   \n",
       "job_segment_code      -0.012034 -0.030217  0.003116         -0.021634   \n",
       "kids_segment_code      0.041466 -0.024550  0.016708          0.034375   \n",
       "orientation_code      -0.062062 -0.060390 -0.003397         -0.070650   \n",
       "pets_segment_code      0.017658 -0.014121  0.034130          0.020607   \n",
       "religion_segment_code  0.039176 -0.055109  0.011486          0.034954   \n",
       "sex_code               0.041481 -0.655432 -0.074601          0.033039   \n",
       "sign_code             -0.000621 -0.042157  0.010958         -0.001844   \n",
       "status_code           -0.019273 -0.004783  0.013096         -0.015651   \n",
       "text_length            0.084697  0.005464  0.007456          0.092834   \n",
       "avg_word_length       -0.002679  0.003960  0.003995          0.000365   \n",
       "i_me_count             0.047500 -0.025343 -0.002128          0.054522   \n",
       "i_me_frequency        -0.060695 -0.052468 -0.012062         -0.062382   \n",
       "\n",
       "                       body_type_code  diet_strictness_code  diet_type_code  \\\n",
       "age                          0.073452             -0.088278       -0.017179   \n",
       "height                       0.154441              0.048581       -0.009926   \n",
       "income                       0.041570              0.044898        0.047049   \n",
       "age_segment_code             0.074256             -0.083110       -0.022597   \n",
       "body_type_code               1.000000              0.027561        0.090063   \n",
       "diet_strictness_code         0.027561              1.000000        0.245414   \n",
       "diet_type_code               0.090063              0.245414        1.000000   \n",
       "drinks_code                  0.028542              0.057837        0.033308   \n",
       "smokes_code                 -0.053882              0.036285        0.032994   \n",
       "drugs_code                  -0.013487              0.025515        0.029611   \n",
       "education_level_code         0.053180              0.024635        0.077178   \n",
       "education_status_code        0.074524              0.005596        0.061445   \n",
       "job_segment_code            -0.001481              0.015873        0.060530   \n",
       "kids_segment_code            0.039566              0.057780        0.185124   \n",
       "orientation_code            -0.067904              0.009107        0.019662   \n",
       "pets_segment_code            0.009540              0.072153        0.111456   \n",
       "religion_segment_code        0.007765             -0.000223        0.045601   \n",
       "sex_code                    -0.196917             -0.049340        0.033537   \n",
       "sign_code                    0.001759              0.009952        0.051212   \n",
       "status_code                 -0.082319              0.010451       -0.022408   \n",
       "text_length                 -0.015213              0.060356        0.058964   \n",
       "avg_word_length              0.000777              0.020328        0.009534   \n",
       "i_me_count                  -0.023994              0.043770        0.046325   \n",
       "i_me_frequency              -0.022655             -0.015967       -0.016490   \n",
       "\n",
       "                       drinks_code  smokes_code  drugs_code       ...        \\\n",
       "age                      -0.069625    -0.099990   -0.039432       ...         \n",
       "height                    0.017491     0.028982    0.010130       ...         \n",
       "income                    0.041435     0.038428    0.056074       ...         \n",
       "age_segment_code         -0.057467    -0.107474   -0.051103       ...         \n",
       "body_type_code            0.028542    -0.053882   -0.013487       ...         \n",
       "diet_strictness_code      0.057837     0.036285    0.025515       ...         \n",
       "diet_type_code            0.033308     0.032994    0.029611       ...         \n",
       "drinks_code               1.000000     0.193725    0.108036       ...         \n",
       "smokes_code               0.193725     1.000000    0.201836       ...         \n",
       "drugs_code                0.108036     0.201836    1.000000       ...         \n",
       "education_level_code      0.144148    -0.048571   -0.008329       ...         \n",
       "education_status_code     0.130862    -0.069453   -0.030717       ...         \n",
       "job_segment_code          0.045022     0.081593    0.047617       ...         \n",
       "kids_segment_code         0.044212     0.039383    0.038959       ...         \n",
       "orientation_code         -0.004223     0.075215    0.054849       ...         \n",
       "pets_segment_code         0.103184     0.059704    0.028297       ...         \n",
       "religion_segment_code     0.037869     0.012797    0.042105       ...         \n",
       "sex_code                  0.004324    -0.030984   -0.015948       ...         \n",
       "sign_code                 0.063545     0.076599    0.029077       ...         \n",
       "status_code               0.013083     0.015107    0.040071       ...         \n",
       "text_length               0.030395    -0.019736   -0.015871       ...         \n",
       "avg_word_length           0.012158    -0.009342   -0.013573       ...         \n",
       "i_me_count                0.026461    -0.008798   -0.002039       ...         \n",
       "i_me_frequency            0.000344     0.023617    0.022593       ...         \n",
       "\n",
       "                       orientation_code  pets_segment_code  \\\n",
       "age                           -0.062062           0.017658   \n",
       "height                        -0.060390          -0.014121   \n",
       "income                        -0.003397           0.034130   \n",
       "age_segment_code              -0.070650           0.020607   \n",
       "body_type_code                -0.067904           0.009540   \n",
       "diet_strictness_code           0.009107           0.072153   \n",
       "diet_type_code                 0.019662           0.111456   \n",
       "drinks_code                   -0.004223           0.103184   \n",
       "smokes_code                    0.075215           0.059704   \n",
       "drugs_code                     0.054849           0.028297   \n",
       "education_level_code          -0.013679           0.155480   \n",
       "education_status_code         -0.049275           0.132034   \n",
       "job_segment_code               0.028856           0.087348   \n",
       "kids_segment_code             -0.024524           0.140645   \n",
       "orientation_code               1.000000           0.042769   \n",
       "pets_segment_code              0.042769           1.000000   \n",
       "religion_segment_code         -0.023187           0.071073   \n",
       "sex_code                       0.076664           0.041397   \n",
       "sign_code                      0.032429           0.129845   \n",
       "status_code                    0.151497           0.048303   \n",
       "text_length                    0.094878           0.189514   \n",
       "avg_word_length                0.016632           0.040042   \n",
       "i_me_count                     0.084785           0.176254   \n",
       "i_me_frequency                 0.004751           0.021987   \n",
       "\n",
       "                       religion_segment_code  sex_code  sign_code  \\\n",
       "age                                 0.039176  0.041481  -0.000621   \n",
       "height                             -0.055109 -0.655432  -0.042157   \n",
       "income                              0.011486 -0.074601   0.010958   \n",
       "age_segment_code                    0.034954  0.033039  -0.001844   \n",
       "body_type_code                      0.007765 -0.196917   0.001759   \n",
       "diet_strictness_code               -0.000223 -0.049340   0.009952   \n",
       "diet_type_code                      0.045601  0.033537   0.051212   \n",
       "drinks_code                         0.037869  0.004324   0.063545   \n",
       "smokes_code                         0.012797 -0.030984   0.076599   \n",
       "drugs_code                          0.042105 -0.015948   0.029077   \n",
       "education_level_code                0.113045  0.050356   0.077081   \n",
       "education_status_code               0.105311  0.046577   0.067352   \n",
       "job_segment_code                    0.033985  0.046046   0.077208   \n",
       "kids_segment_code                   0.050859  0.059153   0.053571   \n",
       "orientation_code                   -0.023187  0.076664   0.032429   \n",
       "pets_segment_code                   0.071073  0.041397   0.129845   \n",
       "religion_segment_code               1.000000  0.016890   0.072940   \n",
       "sex_code                            0.016890  1.000000   0.042504   \n",
       "sign_code                           0.072940  0.042504   1.000000   \n",
       "status_code                        -0.003524  0.021189   0.008298   \n",
       "text_length                         0.022666  0.012783   0.062400   \n",
       "avg_word_length                    -0.000190 -0.004226   0.015530   \n",
       "i_me_count                          0.028625  0.055297   0.069032   \n",
       "i_me_frequency                      0.024749  0.068262   0.029023   \n",
       "\n",
       "                       status_code  text_length  avg_word_length  i_me_count  \\\n",
       "age                      -0.019273     0.084697        -0.002679    0.047500   \n",
       "height                   -0.004783     0.005464         0.003960   -0.025343   \n",
       "income                    0.013096     0.007456         0.003995   -0.002128   \n",
       "age_segment_code         -0.015651     0.092834         0.000365    0.054522   \n",
       "body_type_code           -0.082319    -0.015213         0.000777   -0.023994   \n",
       "diet_strictness_code      0.010451     0.060356         0.020328    0.043770   \n",
       "diet_type_code           -0.022408     0.058964         0.009534    0.046325   \n",
       "drinks_code               0.013083     0.030395         0.012158    0.026461   \n",
       "smokes_code               0.015107    -0.019736        -0.009342   -0.008798   \n",
       "drugs_code                0.040071    -0.015871        -0.013573   -0.002039   \n",
       "education_level_code      0.003079     0.122049         0.045626    0.104554   \n",
       "education_status_code    -0.024062     0.085165         0.035899    0.066540   \n",
       "job_segment_code          0.005854     0.040606         0.014125    0.052123   \n",
       "kids_segment_code        -0.039683     0.046575        -0.002759    0.044607   \n",
       "orientation_code          0.151497     0.094878         0.016632    0.084785   \n",
       "pets_segment_code         0.048303     0.189514         0.040042    0.176254   \n",
       "religion_segment_code    -0.003524     0.022666        -0.000190    0.028625   \n",
       "sex_code                  0.021189     0.012783        -0.004226    0.055297   \n",
       "sign_code                 0.008298     0.062400         0.015530    0.069032   \n",
       "status_code               1.000000     0.122756         0.035229    0.099863   \n",
       "text_length               0.122756     1.000000         0.098343    0.860773   \n",
       "avg_word_length           0.035229     0.098343         1.000000    0.052426   \n",
       "i_me_count                0.099863     0.860773         0.052426    1.000000   \n",
       "i_me_frequency           -0.002420     0.066430         0.040624    0.346128   \n",
       "\n",
       "                       i_me_frequency  \n",
       "age                         -0.060695  \n",
       "height                      -0.052468  \n",
       "income                      -0.012062  \n",
       "age_segment_code            -0.062382  \n",
       "body_type_code              -0.022655  \n",
       "diet_strictness_code        -0.015967  \n",
       "diet_type_code              -0.016490  \n",
       "drinks_code                  0.000344  \n",
       "smokes_code                  0.023617  \n",
       "drugs_code                   0.022593  \n",
       "education_level_code        -0.009040  \n",
       "education_status_code       -0.018740  \n",
       "job_segment_code             0.044297  \n",
       "kids_segment_code            0.006314  \n",
       "orientation_code             0.004751  \n",
       "pets_segment_code            0.021987  \n",
       "religion_segment_code        0.024749  \n",
       "sex_code                     0.068262  \n",
       "sign_code                    0.029023  \n",
       "status_code                 -0.002420  \n",
       "text_length                  0.066430  \n",
       "avg_word_length              0.040624  \n",
       "i_me_count                   0.346128  \n",
       "i_me_frequency               1.000000  \n",
       "\n",
       "[24 rows x 24 columns]"
      ]
     },
     "execution_count": 68,
     "metadata": {},
     "output_type": "execute_result"
    }
   ],
   "source": [
    "df.corr()"
   ]
  },
  {
   "cell_type": "code",
   "execution_count": 69,
   "metadata": {},
   "outputs": [],
   "source": [
    "df_codes = df[[\"age\", \"height\", \"income\", \"age_segment_code\", \"body_type_code\", \"diet_strictness_code\", \"diet_type_code\", \"drinks_code\", \"smokes_code\", \"drugs_code\", \"education_level_code\", \"education_status_code\", \"job_segment_code\", \"kids_segment_code\", \"orientation_code\", \"pets_segment_code\", \"religion_segment_code\", \"sex_code\", \"sign_code\", \"status_code\", \"text_length\", \"avg_word_length\", \"i_me_frequency\"]]\n"
   ]
  },
  {
   "cell_type": "code",
   "execution_count": 70,
   "metadata": {},
   "outputs": [
    {
     "data": {
      "text/html": [
       "<div>\n",
       "<style scoped>\n",
       "    .dataframe tbody tr th:only-of-type {\n",
       "        vertical-align: middle;\n",
       "    }\n",
       "\n",
       "    .dataframe tbody tr th {\n",
       "        vertical-align: top;\n",
       "    }\n",
       "\n",
       "    .dataframe thead th {\n",
       "        text-align: right;\n",
       "    }\n",
       "</style>\n",
       "<table border=\"1\" class=\"dataframe\">\n",
       "  <thead>\n",
       "    <tr style=\"text-align: right;\">\n",
       "      <th></th>\n",
       "      <th>age</th>\n",
       "      <th>height</th>\n",
       "      <th>income</th>\n",
       "      <th>age_segment_code</th>\n",
       "      <th>body_type_code</th>\n",
       "      <th>diet_strictness_code</th>\n",
       "      <th>diet_type_code</th>\n",
       "      <th>drinks_code</th>\n",
       "      <th>smokes_code</th>\n",
       "      <th>drugs_code</th>\n",
       "      <th>...</th>\n",
       "      <th>kids_segment_code</th>\n",
       "      <th>orientation_code</th>\n",
       "      <th>pets_segment_code</th>\n",
       "      <th>religion_segment_code</th>\n",
       "      <th>sex_code</th>\n",
       "      <th>sign_code</th>\n",
       "      <th>status_code</th>\n",
       "      <th>text_length</th>\n",
       "      <th>avg_word_length</th>\n",
       "      <th>i_me_frequency</th>\n",
       "    </tr>\n",
       "  </thead>\n",
       "  <tbody>\n",
       "    <tr>\n",
       "      <th>age</th>\n",
       "      <td>1.000000</td>\n",
       "      <td>-0.022261</td>\n",
       "      <td>-0.001004</td>\n",
       "      <td>0.954291</td>\n",
       "      <td>0.073452</td>\n",
       "      <td>-0.088278</td>\n",
       "      <td>-0.017179</td>\n",
       "      <td>-0.069625</td>\n",
       "      <td>-0.099990</td>\n",
       "      <td>-0.039432</td>\n",
       "      <td>...</td>\n",
       "      <td>0.041466</td>\n",
       "      <td>-0.062062</td>\n",
       "      <td>0.017658</td>\n",
       "      <td>0.039176</td>\n",
       "      <td>0.041481</td>\n",
       "      <td>-0.000621</td>\n",
       "      <td>-0.019273</td>\n",
       "      <td>0.084697</td>\n",
       "      <td>-0.002679</td>\n",
       "      <td>-0.060695</td>\n",
       "    </tr>\n",
       "    <tr>\n",
       "      <th>height</th>\n",
       "      <td>-0.022261</td>\n",
       "      <td>1.000000</td>\n",
       "      <td>0.065049</td>\n",
       "      <td>-0.015299</td>\n",
       "      <td>0.154441</td>\n",
       "      <td>0.048581</td>\n",
       "      <td>-0.009926</td>\n",
       "      <td>0.017491</td>\n",
       "      <td>0.028982</td>\n",
       "      <td>0.010130</td>\n",
       "      <td>...</td>\n",
       "      <td>-0.024550</td>\n",
       "      <td>-0.060390</td>\n",
       "      <td>-0.014121</td>\n",
       "      <td>-0.055109</td>\n",
       "      <td>-0.655432</td>\n",
       "      <td>-0.042157</td>\n",
       "      <td>-0.004783</td>\n",
       "      <td>0.005464</td>\n",
       "      <td>0.003960</td>\n",
       "      <td>-0.052468</td>\n",
       "    </tr>\n",
       "    <tr>\n",
       "      <th>income</th>\n",
       "      <td>-0.001004</td>\n",
       "      <td>0.065049</td>\n",
       "      <td>1.000000</td>\n",
       "      <td>-0.000756</td>\n",
       "      <td>0.041570</td>\n",
       "      <td>0.044898</td>\n",
       "      <td>0.047049</td>\n",
       "      <td>0.041435</td>\n",
       "      <td>0.038428</td>\n",
       "      <td>0.056074</td>\n",
       "      <td>...</td>\n",
       "      <td>0.016708</td>\n",
       "      <td>-0.003397</td>\n",
       "      <td>0.034130</td>\n",
       "      <td>0.011486</td>\n",
       "      <td>-0.074601</td>\n",
       "      <td>0.010958</td>\n",
       "      <td>0.013096</td>\n",
       "      <td>0.007456</td>\n",
       "      <td>0.003995</td>\n",
       "      <td>-0.012062</td>\n",
       "    </tr>\n",
       "    <tr>\n",
       "      <th>age_segment_code</th>\n",
       "      <td>0.954291</td>\n",
       "      <td>-0.015299</td>\n",
       "      <td>-0.000756</td>\n",
       "      <td>1.000000</td>\n",
       "      <td>0.074256</td>\n",
       "      <td>-0.083110</td>\n",
       "      <td>-0.022597</td>\n",
       "      <td>-0.057467</td>\n",
       "      <td>-0.107474</td>\n",
       "      <td>-0.051103</td>\n",
       "      <td>...</td>\n",
       "      <td>0.034375</td>\n",
       "      <td>-0.070650</td>\n",
       "      <td>0.020607</td>\n",
       "      <td>0.034954</td>\n",
       "      <td>0.033039</td>\n",
       "      <td>-0.001844</td>\n",
       "      <td>-0.015651</td>\n",
       "      <td>0.092834</td>\n",
       "      <td>0.000365</td>\n",
       "      <td>-0.062382</td>\n",
       "    </tr>\n",
       "    <tr>\n",
       "      <th>body_type_code</th>\n",
       "      <td>0.073452</td>\n",
       "      <td>0.154441</td>\n",
       "      <td>0.041570</td>\n",
       "      <td>0.074256</td>\n",
       "      <td>1.000000</td>\n",
       "      <td>0.027561</td>\n",
       "      <td>0.090063</td>\n",
       "      <td>0.028542</td>\n",
       "      <td>-0.053882</td>\n",
       "      <td>-0.013487</td>\n",
       "      <td>...</td>\n",
       "      <td>0.039566</td>\n",
       "      <td>-0.067904</td>\n",
       "      <td>0.009540</td>\n",
       "      <td>0.007765</td>\n",
       "      <td>-0.196917</td>\n",
       "      <td>0.001759</td>\n",
       "      <td>-0.082319</td>\n",
       "      <td>-0.015213</td>\n",
       "      <td>0.000777</td>\n",
       "      <td>-0.022655</td>\n",
       "    </tr>\n",
       "    <tr>\n",
       "      <th>diet_strictness_code</th>\n",
       "      <td>-0.088278</td>\n",
       "      <td>0.048581</td>\n",
       "      <td>0.044898</td>\n",
       "      <td>-0.083110</td>\n",
       "      <td>0.027561</td>\n",
       "      <td>1.000000</td>\n",
       "      <td>0.245414</td>\n",
       "      <td>0.057837</td>\n",
       "      <td>0.036285</td>\n",
       "      <td>0.025515</td>\n",
       "      <td>...</td>\n",
       "      <td>0.057780</td>\n",
       "      <td>0.009107</td>\n",
       "      <td>0.072153</td>\n",
       "      <td>-0.000223</td>\n",
       "      <td>-0.049340</td>\n",
       "      <td>0.009952</td>\n",
       "      <td>0.010451</td>\n",
       "      <td>0.060356</td>\n",
       "      <td>0.020328</td>\n",
       "      <td>-0.015967</td>\n",
       "    </tr>\n",
       "    <tr>\n",
       "      <th>diet_type_code</th>\n",
       "      <td>-0.017179</td>\n",
       "      <td>-0.009926</td>\n",
       "      <td>0.047049</td>\n",
       "      <td>-0.022597</td>\n",
       "      <td>0.090063</td>\n",
       "      <td>0.245414</td>\n",
       "      <td>1.000000</td>\n",
       "      <td>0.033308</td>\n",
       "      <td>0.032994</td>\n",
       "      <td>0.029611</td>\n",
       "      <td>...</td>\n",
       "      <td>0.185124</td>\n",
       "      <td>0.019662</td>\n",
       "      <td>0.111456</td>\n",
       "      <td>0.045601</td>\n",
       "      <td>0.033537</td>\n",
       "      <td>0.051212</td>\n",
       "      <td>-0.022408</td>\n",
       "      <td>0.058964</td>\n",
       "      <td>0.009534</td>\n",
       "      <td>-0.016490</td>\n",
       "    </tr>\n",
       "    <tr>\n",
       "      <th>drinks_code</th>\n",
       "      <td>-0.069625</td>\n",
       "      <td>0.017491</td>\n",
       "      <td>0.041435</td>\n",
       "      <td>-0.057467</td>\n",
       "      <td>0.028542</td>\n",
       "      <td>0.057837</td>\n",
       "      <td>0.033308</td>\n",
       "      <td>1.000000</td>\n",
       "      <td>0.193725</td>\n",
       "      <td>0.108036</td>\n",
       "      <td>...</td>\n",
       "      <td>0.044212</td>\n",
       "      <td>-0.004223</td>\n",
       "      <td>0.103184</td>\n",
       "      <td>0.037869</td>\n",
       "      <td>0.004324</td>\n",
       "      <td>0.063545</td>\n",
       "      <td>0.013083</td>\n",
       "      <td>0.030395</td>\n",
       "      <td>0.012158</td>\n",
       "      <td>0.000344</td>\n",
       "    </tr>\n",
       "    <tr>\n",
       "      <th>smokes_code</th>\n",
       "      <td>-0.099990</td>\n",
       "      <td>0.028982</td>\n",
       "      <td>0.038428</td>\n",
       "      <td>-0.107474</td>\n",
       "      <td>-0.053882</td>\n",
       "      <td>0.036285</td>\n",
       "      <td>0.032994</td>\n",
       "      <td>0.193725</td>\n",
       "      <td>1.000000</td>\n",
       "      <td>0.201836</td>\n",
       "      <td>...</td>\n",
       "      <td>0.039383</td>\n",
       "      <td>0.075215</td>\n",
       "      <td>0.059704</td>\n",
       "      <td>0.012797</td>\n",
       "      <td>-0.030984</td>\n",
       "      <td>0.076599</td>\n",
       "      <td>0.015107</td>\n",
       "      <td>-0.019736</td>\n",
       "      <td>-0.009342</td>\n",
       "      <td>0.023617</td>\n",
       "    </tr>\n",
       "    <tr>\n",
       "      <th>drugs_code</th>\n",
       "      <td>-0.039432</td>\n",
       "      <td>0.010130</td>\n",
       "      <td>0.056074</td>\n",
       "      <td>-0.051103</td>\n",
       "      <td>-0.013487</td>\n",
       "      <td>0.025515</td>\n",
       "      <td>0.029611</td>\n",
       "      <td>0.108036</td>\n",
       "      <td>0.201836</td>\n",
       "      <td>1.000000</td>\n",
       "      <td>...</td>\n",
       "      <td>0.038959</td>\n",
       "      <td>0.054849</td>\n",
       "      <td>0.028297</td>\n",
       "      <td>0.042105</td>\n",
       "      <td>-0.015948</td>\n",
       "      <td>0.029077</td>\n",
       "      <td>0.040071</td>\n",
       "      <td>-0.015871</td>\n",
       "      <td>-0.013573</td>\n",
       "      <td>0.022593</td>\n",
       "    </tr>\n",
       "    <tr>\n",
       "      <th>education_level_code</th>\n",
       "      <td>0.006433</td>\n",
       "      <td>-0.025411</td>\n",
       "      <td>0.004897</td>\n",
       "      <td>0.015744</td>\n",
       "      <td>0.053180</td>\n",
       "      <td>0.024635</td>\n",
       "      <td>0.077178</td>\n",
       "      <td>0.144148</td>\n",
       "      <td>-0.048571</td>\n",
       "      <td>-0.008329</td>\n",
       "      <td>...</td>\n",
       "      <td>0.070217</td>\n",
       "      <td>-0.013679</td>\n",
       "      <td>0.155480</td>\n",
       "      <td>0.113045</td>\n",
       "      <td>0.050356</td>\n",
       "      <td>0.077081</td>\n",
       "      <td>0.003079</td>\n",
       "      <td>0.122049</td>\n",
       "      <td>0.045626</td>\n",
       "      <td>-0.009040</td>\n",
       "    </tr>\n",
       "    <tr>\n",
       "      <th>education_status_code</th>\n",
       "      <td>0.092458</td>\n",
       "      <td>-0.027117</td>\n",
       "      <td>0.010238</td>\n",
       "      <td>0.107893</td>\n",
       "      <td>0.074524</td>\n",
       "      <td>0.005596</td>\n",
       "      <td>0.061445</td>\n",
       "      <td>0.130862</td>\n",
       "      <td>-0.069453</td>\n",
       "      <td>-0.030717</td>\n",
       "      <td>...</td>\n",
       "      <td>0.069418</td>\n",
       "      <td>-0.049275</td>\n",
       "      <td>0.132034</td>\n",
       "      <td>0.105311</td>\n",
       "      <td>0.046577</td>\n",
       "      <td>0.067352</td>\n",
       "      <td>-0.024062</td>\n",
       "      <td>0.085165</td>\n",
       "      <td>0.035899</td>\n",
       "      <td>-0.018740</td>\n",
       "    </tr>\n",
       "    <tr>\n",
       "      <th>job_segment_code</th>\n",
       "      <td>-0.012034</td>\n",
       "      <td>-0.030217</td>\n",
       "      <td>0.003116</td>\n",
       "      <td>-0.021634</td>\n",
       "      <td>-0.001481</td>\n",
       "      <td>0.015873</td>\n",
       "      <td>0.060530</td>\n",
       "      <td>0.045022</td>\n",
       "      <td>0.081593</td>\n",
       "      <td>0.047617</td>\n",
       "      <td>...</td>\n",
       "      <td>0.065708</td>\n",
       "      <td>0.028856</td>\n",
       "      <td>0.087348</td>\n",
       "      <td>0.033985</td>\n",
       "      <td>0.046046</td>\n",
       "      <td>0.077208</td>\n",
       "      <td>0.005854</td>\n",
       "      <td>0.040606</td>\n",
       "      <td>0.014125</td>\n",
       "      <td>0.044297</td>\n",
       "    </tr>\n",
       "    <tr>\n",
       "      <th>kids_segment_code</th>\n",
       "      <td>0.041466</td>\n",
       "      <td>-0.024550</td>\n",
       "      <td>0.016708</td>\n",
       "      <td>0.034375</td>\n",
       "      <td>0.039566</td>\n",
       "      <td>0.057780</td>\n",
       "      <td>0.185124</td>\n",
       "      <td>0.044212</td>\n",
       "      <td>0.039383</td>\n",
       "      <td>0.038959</td>\n",
       "      <td>...</td>\n",
       "      <td>1.000000</td>\n",
       "      <td>-0.024524</td>\n",
       "      <td>0.140645</td>\n",
       "      <td>0.050859</td>\n",
       "      <td>0.059153</td>\n",
       "      <td>0.053571</td>\n",
       "      <td>-0.039683</td>\n",
       "      <td>0.046575</td>\n",
       "      <td>-0.002759</td>\n",
       "      <td>0.006314</td>\n",
       "    </tr>\n",
       "    <tr>\n",
       "      <th>orientation_code</th>\n",
       "      <td>-0.062062</td>\n",
       "      <td>-0.060390</td>\n",
       "      <td>-0.003397</td>\n",
       "      <td>-0.070650</td>\n",
       "      <td>-0.067904</td>\n",
       "      <td>0.009107</td>\n",
       "      <td>0.019662</td>\n",
       "      <td>-0.004223</td>\n",
       "      <td>0.075215</td>\n",
       "      <td>0.054849</td>\n",
       "      <td>...</td>\n",
       "      <td>-0.024524</td>\n",
       "      <td>1.000000</td>\n",
       "      <td>0.042769</td>\n",
       "      <td>-0.023187</td>\n",
       "      <td>0.076664</td>\n",
       "      <td>0.032429</td>\n",
       "      <td>0.151497</td>\n",
       "      <td>0.094878</td>\n",
       "      <td>0.016632</td>\n",
       "      <td>0.004751</td>\n",
       "    </tr>\n",
       "    <tr>\n",
       "      <th>pets_segment_code</th>\n",
       "      <td>0.017658</td>\n",
       "      <td>-0.014121</td>\n",
       "      <td>0.034130</td>\n",
       "      <td>0.020607</td>\n",
       "      <td>0.009540</td>\n",
       "      <td>0.072153</td>\n",
       "      <td>0.111456</td>\n",
       "      <td>0.103184</td>\n",
       "      <td>0.059704</td>\n",
       "      <td>0.028297</td>\n",
       "      <td>...</td>\n",
       "      <td>0.140645</td>\n",
       "      <td>0.042769</td>\n",
       "      <td>1.000000</td>\n",
       "      <td>0.071073</td>\n",
       "      <td>0.041397</td>\n",
       "      <td>0.129845</td>\n",
       "      <td>0.048303</td>\n",
       "      <td>0.189514</td>\n",
       "      <td>0.040042</td>\n",
       "      <td>0.021987</td>\n",
       "    </tr>\n",
       "    <tr>\n",
       "      <th>religion_segment_code</th>\n",
       "      <td>0.039176</td>\n",
       "      <td>-0.055109</td>\n",
       "      <td>0.011486</td>\n",
       "      <td>0.034954</td>\n",
       "      <td>0.007765</td>\n",
       "      <td>-0.000223</td>\n",
       "      <td>0.045601</td>\n",
       "      <td>0.037869</td>\n",
       "      <td>0.012797</td>\n",
       "      <td>0.042105</td>\n",
       "      <td>...</td>\n",
       "      <td>0.050859</td>\n",
       "      <td>-0.023187</td>\n",
       "      <td>0.071073</td>\n",
       "      <td>1.000000</td>\n",
       "      <td>0.016890</td>\n",
       "      <td>0.072940</td>\n",
       "      <td>-0.003524</td>\n",
       "      <td>0.022666</td>\n",
       "      <td>-0.000190</td>\n",
       "      <td>0.024749</td>\n",
       "    </tr>\n",
       "    <tr>\n",
       "      <th>sex_code</th>\n",
       "      <td>0.041481</td>\n",
       "      <td>-0.655432</td>\n",
       "      <td>-0.074601</td>\n",
       "      <td>0.033039</td>\n",
       "      <td>-0.196917</td>\n",
       "      <td>-0.049340</td>\n",
       "      <td>0.033537</td>\n",
       "      <td>0.004324</td>\n",
       "      <td>-0.030984</td>\n",
       "      <td>-0.015948</td>\n",
       "      <td>...</td>\n",
       "      <td>0.059153</td>\n",
       "      <td>0.076664</td>\n",
       "      <td>0.041397</td>\n",
       "      <td>0.016890</td>\n",
       "      <td>1.000000</td>\n",
       "      <td>0.042504</td>\n",
       "      <td>0.021189</td>\n",
       "      <td>0.012783</td>\n",
       "      <td>-0.004226</td>\n",
       "      <td>0.068262</td>\n",
       "    </tr>\n",
       "    <tr>\n",
       "      <th>sign_code</th>\n",
       "      <td>-0.000621</td>\n",
       "      <td>-0.042157</td>\n",
       "      <td>0.010958</td>\n",
       "      <td>-0.001844</td>\n",
       "      <td>0.001759</td>\n",
       "      <td>0.009952</td>\n",
       "      <td>0.051212</td>\n",
       "      <td>0.063545</td>\n",
       "      <td>0.076599</td>\n",
       "      <td>0.029077</td>\n",
       "      <td>...</td>\n",
       "      <td>0.053571</td>\n",
       "      <td>0.032429</td>\n",
       "      <td>0.129845</td>\n",
       "      <td>0.072940</td>\n",
       "      <td>0.042504</td>\n",
       "      <td>1.000000</td>\n",
       "      <td>0.008298</td>\n",
       "      <td>0.062400</td>\n",
       "      <td>0.015530</td>\n",
       "      <td>0.029023</td>\n",
       "    </tr>\n",
       "    <tr>\n",
       "      <th>status_code</th>\n",
       "      <td>-0.019273</td>\n",
       "      <td>-0.004783</td>\n",
       "      <td>0.013096</td>\n",
       "      <td>-0.015651</td>\n",
       "      <td>-0.082319</td>\n",
       "      <td>0.010451</td>\n",
       "      <td>-0.022408</td>\n",
       "      <td>0.013083</td>\n",
       "      <td>0.015107</td>\n",
       "      <td>0.040071</td>\n",
       "      <td>...</td>\n",
       "      <td>-0.039683</td>\n",
       "      <td>0.151497</td>\n",
       "      <td>0.048303</td>\n",
       "      <td>-0.003524</td>\n",
       "      <td>0.021189</td>\n",
       "      <td>0.008298</td>\n",
       "      <td>1.000000</td>\n",
       "      <td>0.122756</td>\n",
       "      <td>0.035229</td>\n",
       "      <td>-0.002420</td>\n",
       "    </tr>\n",
       "    <tr>\n",
       "      <th>text_length</th>\n",
       "      <td>0.084697</td>\n",
       "      <td>0.005464</td>\n",
       "      <td>0.007456</td>\n",
       "      <td>0.092834</td>\n",
       "      <td>-0.015213</td>\n",
       "      <td>0.060356</td>\n",
       "      <td>0.058964</td>\n",
       "      <td>0.030395</td>\n",
       "      <td>-0.019736</td>\n",
       "      <td>-0.015871</td>\n",
       "      <td>...</td>\n",
       "      <td>0.046575</td>\n",
       "      <td>0.094878</td>\n",
       "      <td>0.189514</td>\n",
       "      <td>0.022666</td>\n",
       "      <td>0.012783</td>\n",
       "      <td>0.062400</td>\n",
       "      <td>0.122756</td>\n",
       "      <td>1.000000</td>\n",
       "      <td>0.098343</td>\n",
       "      <td>0.066430</td>\n",
       "    </tr>\n",
       "    <tr>\n",
       "      <th>avg_word_length</th>\n",
       "      <td>-0.002679</td>\n",
       "      <td>0.003960</td>\n",
       "      <td>0.003995</td>\n",
       "      <td>0.000365</td>\n",
       "      <td>0.000777</td>\n",
       "      <td>0.020328</td>\n",
       "      <td>0.009534</td>\n",
       "      <td>0.012158</td>\n",
       "      <td>-0.009342</td>\n",
       "      <td>-0.013573</td>\n",
       "      <td>...</td>\n",
       "      <td>-0.002759</td>\n",
       "      <td>0.016632</td>\n",
       "      <td>0.040042</td>\n",
       "      <td>-0.000190</td>\n",
       "      <td>-0.004226</td>\n",
       "      <td>0.015530</td>\n",
       "      <td>0.035229</td>\n",
       "      <td>0.098343</td>\n",
       "      <td>1.000000</td>\n",
       "      <td>0.040624</td>\n",
       "    </tr>\n",
       "    <tr>\n",
       "      <th>i_me_frequency</th>\n",
       "      <td>-0.060695</td>\n",
       "      <td>-0.052468</td>\n",
       "      <td>-0.012062</td>\n",
       "      <td>-0.062382</td>\n",
       "      <td>-0.022655</td>\n",
       "      <td>-0.015967</td>\n",
       "      <td>-0.016490</td>\n",
       "      <td>0.000344</td>\n",
       "      <td>0.023617</td>\n",
       "      <td>0.022593</td>\n",
       "      <td>...</td>\n",
       "      <td>0.006314</td>\n",
       "      <td>0.004751</td>\n",
       "      <td>0.021987</td>\n",
       "      <td>0.024749</td>\n",
       "      <td>0.068262</td>\n",
       "      <td>0.029023</td>\n",
       "      <td>-0.002420</td>\n",
       "      <td>0.066430</td>\n",
       "      <td>0.040624</td>\n",
       "      <td>1.000000</td>\n",
       "    </tr>\n",
       "  </tbody>\n",
       "</table>\n",
       "<p>23 rows × 23 columns</p>\n",
       "</div>"
      ],
      "text/plain": [
       "                            age    height    income  age_segment_code  \\\n",
       "age                    1.000000 -0.022261 -0.001004          0.954291   \n",
       "height                -0.022261  1.000000  0.065049         -0.015299   \n",
       "income                -0.001004  0.065049  1.000000         -0.000756   \n",
       "age_segment_code       0.954291 -0.015299 -0.000756          1.000000   \n",
       "body_type_code         0.073452  0.154441  0.041570          0.074256   \n",
       "diet_strictness_code  -0.088278  0.048581  0.044898         -0.083110   \n",
       "diet_type_code        -0.017179 -0.009926  0.047049         -0.022597   \n",
       "drinks_code           -0.069625  0.017491  0.041435         -0.057467   \n",
       "smokes_code           -0.099990  0.028982  0.038428         -0.107474   \n",
       "drugs_code            -0.039432  0.010130  0.056074         -0.051103   \n",
       "education_level_code   0.006433 -0.025411  0.004897          0.015744   \n",
       "education_status_code  0.092458 -0.027117  0.010238          0.107893   \n",
       "job_segment_code      -0.012034 -0.030217  0.003116         -0.021634   \n",
       "kids_segment_code      0.041466 -0.024550  0.016708          0.034375   \n",
       "orientation_code      -0.062062 -0.060390 -0.003397         -0.070650   \n",
       "pets_segment_code      0.017658 -0.014121  0.034130          0.020607   \n",
       "religion_segment_code  0.039176 -0.055109  0.011486          0.034954   \n",
       "sex_code               0.041481 -0.655432 -0.074601          0.033039   \n",
       "sign_code             -0.000621 -0.042157  0.010958         -0.001844   \n",
       "status_code           -0.019273 -0.004783  0.013096         -0.015651   \n",
       "text_length            0.084697  0.005464  0.007456          0.092834   \n",
       "avg_word_length       -0.002679  0.003960  0.003995          0.000365   \n",
       "i_me_frequency        -0.060695 -0.052468 -0.012062         -0.062382   \n",
       "\n",
       "                       body_type_code  diet_strictness_code  diet_type_code  \\\n",
       "age                          0.073452             -0.088278       -0.017179   \n",
       "height                       0.154441              0.048581       -0.009926   \n",
       "income                       0.041570              0.044898        0.047049   \n",
       "age_segment_code             0.074256             -0.083110       -0.022597   \n",
       "body_type_code               1.000000              0.027561        0.090063   \n",
       "diet_strictness_code         0.027561              1.000000        0.245414   \n",
       "diet_type_code               0.090063              0.245414        1.000000   \n",
       "drinks_code                  0.028542              0.057837        0.033308   \n",
       "smokes_code                 -0.053882              0.036285        0.032994   \n",
       "drugs_code                  -0.013487              0.025515        0.029611   \n",
       "education_level_code         0.053180              0.024635        0.077178   \n",
       "education_status_code        0.074524              0.005596        0.061445   \n",
       "job_segment_code            -0.001481              0.015873        0.060530   \n",
       "kids_segment_code            0.039566              0.057780        0.185124   \n",
       "orientation_code            -0.067904              0.009107        0.019662   \n",
       "pets_segment_code            0.009540              0.072153        0.111456   \n",
       "religion_segment_code        0.007765             -0.000223        0.045601   \n",
       "sex_code                    -0.196917             -0.049340        0.033537   \n",
       "sign_code                    0.001759              0.009952        0.051212   \n",
       "status_code                 -0.082319              0.010451       -0.022408   \n",
       "text_length                 -0.015213              0.060356        0.058964   \n",
       "avg_word_length              0.000777              0.020328        0.009534   \n",
       "i_me_frequency              -0.022655             -0.015967       -0.016490   \n",
       "\n",
       "                       drinks_code  smokes_code  drugs_code       ...        \\\n",
       "age                      -0.069625    -0.099990   -0.039432       ...         \n",
       "height                    0.017491     0.028982    0.010130       ...         \n",
       "income                    0.041435     0.038428    0.056074       ...         \n",
       "age_segment_code         -0.057467    -0.107474   -0.051103       ...         \n",
       "body_type_code            0.028542    -0.053882   -0.013487       ...         \n",
       "diet_strictness_code      0.057837     0.036285    0.025515       ...         \n",
       "diet_type_code            0.033308     0.032994    0.029611       ...         \n",
       "drinks_code               1.000000     0.193725    0.108036       ...         \n",
       "smokes_code               0.193725     1.000000    0.201836       ...         \n",
       "drugs_code                0.108036     0.201836    1.000000       ...         \n",
       "education_level_code      0.144148    -0.048571   -0.008329       ...         \n",
       "education_status_code     0.130862    -0.069453   -0.030717       ...         \n",
       "job_segment_code          0.045022     0.081593    0.047617       ...         \n",
       "kids_segment_code         0.044212     0.039383    0.038959       ...         \n",
       "orientation_code         -0.004223     0.075215    0.054849       ...         \n",
       "pets_segment_code         0.103184     0.059704    0.028297       ...         \n",
       "religion_segment_code     0.037869     0.012797    0.042105       ...         \n",
       "sex_code                  0.004324    -0.030984   -0.015948       ...         \n",
       "sign_code                 0.063545     0.076599    0.029077       ...         \n",
       "status_code               0.013083     0.015107    0.040071       ...         \n",
       "text_length               0.030395    -0.019736   -0.015871       ...         \n",
       "avg_word_length           0.012158    -0.009342   -0.013573       ...         \n",
       "i_me_frequency            0.000344     0.023617    0.022593       ...         \n",
       "\n",
       "                       kids_segment_code  orientation_code  pets_segment_code  \\\n",
       "age                             0.041466         -0.062062           0.017658   \n",
       "height                         -0.024550         -0.060390          -0.014121   \n",
       "income                          0.016708         -0.003397           0.034130   \n",
       "age_segment_code                0.034375         -0.070650           0.020607   \n",
       "body_type_code                  0.039566         -0.067904           0.009540   \n",
       "diet_strictness_code            0.057780          0.009107           0.072153   \n",
       "diet_type_code                  0.185124          0.019662           0.111456   \n",
       "drinks_code                     0.044212         -0.004223           0.103184   \n",
       "smokes_code                     0.039383          0.075215           0.059704   \n",
       "drugs_code                      0.038959          0.054849           0.028297   \n",
       "education_level_code            0.070217         -0.013679           0.155480   \n",
       "education_status_code           0.069418         -0.049275           0.132034   \n",
       "job_segment_code                0.065708          0.028856           0.087348   \n",
       "kids_segment_code               1.000000         -0.024524           0.140645   \n",
       "orientation_code               -0.024524          1.000000           0.042769   \n",
       "pets_segment_code               0.140645          0.042769           1.000000   \n",
       "religion_segment_code           0.050859         -0.023187           0.071073   \n",
       "sex_code                        0.059153          0.076664           0.041397   \n",
       "sign_code                       0.053571          0.032429           0.129845   \n",
       "status_code                    -0.039683          0.151497           0.048303   \n",
       "text_length                     0.046575          0.094878           0.189514   \n",
       "avg_word_length                -0.002759          0.016632           0.040042   \n",
       "i_me_frequency                  0.006314          0.004751           0.021987   \n",
       "\n",
       "                       religion_segment_code  sex_code  sign_code  \\\n",
       "age                                 0.039176  0.041481  -0.000621   \n",
       "height                             -0.055109 -0.655432  -0.042157   \n",
       "income                              0.011486 -0.074601   0.010958   \n",
       "age_segment_code                    0.034954  0.033039  -0.001844   \n",
       "body_type_code                      0.007765 -0.196917   0.001759   \n",
       "diet_strictness_code               -0.000223 -0.049340   0.009952   \n",
       "diet_type_code                      0.045601  0.033537   0.051212   \n",
       "drinks_code                         0.037869  0.004324   0.063545   \n",
       "smokes_code                         0.012797 -0.030984   0.076599   \n",
       "drugs_code                          0.042105 -0.015948   0.029077   \n",
       "education_level_code                0.113045  0.050356   0.077081   \n",
       "education_status_code               0.105311  0.046577   0.067352   \n",
       "job_segment_code                    0.033985  0.046046   0.077208   \n",
       "kids_segment_code                   0.050859  0.059153   0.053571   \n",
       "orientation_code                   -0.023187  0.076664   0.032429   \n",
       "pets_segment_code                   0.071073  0.041397   0.129845   \n",
       "religion_segment_code               1.000000  0.016890   0.072940   \n",
       "sex_code                            0.016890  1.000000   0.042504   \n",
       "sign_code                           0.072940  0.042504   1.000000   \n",
       "status_code                        -0.003524  0.021189   0.008298   \n",
       "text_length                         0.022666  0.012783   0.062400   \n",
       "avg_word_length                    -0.000190 -0.004226   0.015530   \n",
       "i_me_frequency                      0.024749  0.068262   0.029023   \n",
       "\n",
       "                       status_code  text_length  avg_word_length  \\\n",
       "age                      -0.019273     0.084697        -0.002679   \n",
       "height                   -0.004783     0.005464         0.003960   \n",
       "income                    0.013096     0.007456         0.003995   \n",
       "age_segment_code         -0.015651     0.092834         0.000365   \n",
       "body_type_code           -0.082319    -0.015213         0.000777   \n",
       "diet_strictness_code      0.010451     0.060356         0.020328   \n",
       "diet_type_code           -0.022408     0.058964         0.009534   \n",
       "drinks_code               0.013083     0.030395         0.012158   \n",
       "smokes_code               0.015107    -0.019736        -0.009342   \n",
       "drugs_code                0.040071    -0.015871        -0.013573   \n",
       "education_level_code      0.003079     0.122049         0.045626   \n",
       "education_status_code    -0.024062     0.085165         0.035899   \n",
       "job_segment_code          0.005854     0.040606         0.014125   \n",
       "kids_segment_code        -0.039683     0.046575        -0.002759   \n",
       "orientation_code          0.151497     0.094878         0.016632   \n",
       "pets_segment_code         0.048303     0.189514         0.040042   \n",
       "religion_segment_code    -0.003524     0.022666        -0.000190   \n",
       "sex_code                  0.021189     0.012783        -0.004226   \n",
       "sign_code                 0.008298     0.062400         0.015530   \n",
       "status_code               1.000000     0.122756         0.035229   \n",
       "text_length               0.122756     1.000000         0.098343   \n",
       "avg_word_length           0.035229     0.098343         1.000000   \n",
       "i_me_frequency           -0.002420     0.066430         0.040624   \n",
       "\n",
       "                       i_me_frequency  \n",
       "age                         -0.060695  \n",
       "height                      -0.052468  \n",
       "income                      -0.012062  \n",
       "age_segment_code            -0.062382  \n",
       "body_type_code              -0.022655  \n",
       "diet_strictness_code        -0.015967  \n",
       "diet_type_code              -0.016490  \n",
       "drinks_code                  0.000344  \n",
       "smokes_code                  0.023617  \n",
       "drugs_code                   0.022593  \n",
       "education_level_code        -0.009040  \n",
       "education_status_code       -0.018740  \n",
       "job_segment_code             0.044297  \n",
       "kids_segment_code            0.006314  \n",
       "orientation_code             0.004751  \n",
       "pets_segment_code            0.021987  \n",
       "religion_segment_code        0.024749  \n",
       "sex_code                     0.068262  \n",
       "sign_code                    0.029023  \n",
       "status_code                 -0.002420  \n",
       "text_length                  0.066430  \n",
       "avg_word_length              0.040624  \n",
       "i_me_frequency               1.000000  \n",
       "\n",
       "[23 rows x 23 columns]"
      ]
     },
     "execution_count": 70,
     "metadata": {},
     "output_type": "execute_result"
    }
   ],
   "source": [
    "df_codes.corr()"
   ]
  },
  {
   "cell_type": "code",
   "execution_count": 71,
   "metadata": {},
   "outputs": [
    {
     "data": {
      "text/plain": [
       "0     11056\n",
       "8      4374\n",
       "1      4310\n",
       "10     4207\n",
       "2      4206\n",
       "6      4141\n",
       "5      4140\n",
       "11     4134\n",
       "9      3989\n",
       "3      3946\n",
       "7      3942\n",
       "4      3928\n",
       "12     3573\n",
       "Name: sign_code, dtype: int64"
      ]
     },
     "execution_count": 71,
     "metadata": {},
     "output_type": "execute_result"
    }
   ],
   "source": [
    "df_codes.sign_code.value_counts()"
   ]
  },
  {
   "cell_type": "code",
   "execution_count": 72,
   "metadata": {},
   "outputs": [
    {
     "data": {
      "text/plain": [
       "59946"
      ]
     },
     "execution_count": 72,
     "metadata": {},
     "output_type": "execute_result"
    }
   ],
   "source": [
    "len(df_codes)"
   ]
  },
  {
   "cell_type": "markdown",
   "metadata": {},
   "source": [
    "# Machine Learning"
   ]
  },
  {
   "cell_type": "markdown",
   "metadata": {},
   "source": [
    "### Classification"
   ]
  },
  {
   "cell_type": "code",
   "execution_count": 73,
   "metadata": {},
   "outputs": [],
   "source": [
    "from sklearn.model_selection import train_test_split\n",
    "from sklearn.neighbors import KNeighborsClassifier\n",
    "from sklearn import preprocessing\n",
    "from sklearn.svm import SVC\n",
    "from sklearn import metrics"
   ]
  },
  {
   "cell_type": "code",
   "execution_count": 74,
   "metadata": {},
   "outputs": [],
   "source": [
    "def normalize_data(feature_data):\n",
    "    x = feature_data.values.astype('float64')\n",
    "    min_max_scaler = preprocessing.MinMaxScaler()\n",
    "    x_scaled = min_max_scaler.fit_transform(x)\n",
    "    feature_data = pd.DataFrame(x_scaled, columns=feature_data.columns)\n",
    "    return feature_data"
   ]
  },
  {
   "cell_type": "code",
   "execution_count": 75,
   "metadata": {},
   "outputs": [],
   "source": [
    "def knn(prediction_data, prediction_target, maxk, avg):\n",
    "    training_data, validation_data, training_labels, validation_labels = train_test_split(prediction_data, prediction_target, test_size = 0.2, random_state = 100)\n",
    "    #print(len(training_data), len(training_labels))\n",
    "    #print(len(validation_data), len(validation_labels))\n",
    "    k_list = []\n",
    "    accuracies = []\n",
    "    recalls = []\n",
    "    precisions = []\n",
    "    f1s = []\n",
    "    for k in range(1, maxk, 2):\n",
    "        classifier = KNeighborsClassifier(n_neighbors = k)\n",
    "        classifier.fit(training_data, training_labels)\n",
    "        print(k, ': ', classifier.score(validation_data, validation_labels))\n",
    "        k_list.append(k)\n",
    "        y_predict = classifier.predict(validation_data)\n",
    "        accuracies.append(metrics.accuracy_score(validation_labels, y_predict))\n",
    "        recalls.append(metrics.recall_score(validation_labels, y_predict, average=avg))\n",
    "        precisions.append(metrics.precision_score(validation_labels, y_predict, average=avg))\n",
    "        f1s.append(metrics.f1_score(validation_labels, y_predict, average=avg))\n",
    "    return k_list, y_predict, accuracies, recalls, precisions, f1s"
   ]
  },
  {
   "cell_type": "markdown",
   "metadata": {},
   "source": [
    "The recall is the ratio tp / (tp + fn) where tp is the number of true positives and fn the number of false negatives. The recall is intuitively the ability of the classifier to find all the positive samples. The best value is 1 and the worst value is 0.\n",
    "\n",
    "The precision is the ratio tp / (tp + fp) where tp is the number of true positives and fp the number of false positives. The precision is intuitively the ability of the classifier not to label as positive a sample that is negative. The best value is 1 and the worst value is 0.\n",
    "\n",
    "The F1 score can be interpreted as a weighted average of the precision and recall, where an F1 score reaches its best value at 1 and worst score at 0. The relative contribution of precision and recall to the F1 score are equal. The formula for the F1 score is:\n",
    "\n",
    "F1 = 2 * (precision * recall) / (precision + recall)\n"
   ]
  },
  {
   "cell_type": "code",
   "execution_count": 76,
   "metadata": {},
   "outputs": [],
   "source": [
    "sign_prediction_data = df_codes[df_codes[\"sign_code\"] > 0]"
   ]
  },
  {
   "cell_type": "code",
   "execution_count": 77,
   "metadata": {},
   "outputs": [],
   "source": [
    "#len(sign_prediction_data)"
   ]
  },
  {
   "cell_type": "code",
   "execution_count": 78,
   "metadata": {},
   "outputs": [],
   "source": [
    "#sign_prediction_data.sign_code.value_counts()"
   ]
  },
  {
   "cell_type": "code",
   "execution_count": 79,
   "metadata": {},
   "outputs": [],
   "source": [
    "#sign_prediction_data = normalize_data(sign_prediction_data)\n",
    "#remove hash for normalization"
   ]
  },
  {
   "cell_type": "code",
   "execution_count": 80,
   "metadata": {},
   "outputs": [],
   "source": [
    "sign_prediction_features = sign_prediction_data.drop([\"sign_code\"], axis=1)\n",
    "sign_prediction_labels = sign_prediction_data[\"sign_code\"]"
   ]
  },
  {
   "cell_type": "code",
   "execution_count": 81,
   "metadata": {},
   "outputs": [
    {
     "name": "stdout",
     "output_type": "stream",
     "text": [
      "1 :  0.0783391286561669\n",
      "3 :  0.08028226631212927\n",
      "5 :  0.07803231744733075\n",
      "7 :  0.07854366946205768\n",
      "9 :  0.07905502147678461\n",
      "11 :  0.07793004704438536\n",
      "13 :  0.07711188382082225\n",
      "15 :  0.07608917979136838\n",
      "17 :  0.07905502147678461\n",
      "19 :  0.0784413990591123\n",
      "21 :  0.0800777255062385\n",
      "23 :  0.0800777255062385\n",
      "25 :  0.08038453671507466\n",
      "27 :  0.07997545510329311\n",
      "29 :  0.08110042953569237\n"
     ]
    }
   ],
   "source": [
    "sign_k_list, sign_prediction, sign_accuracies, sign_recalls, sign_precisions, sign_f1 = knn(sign_prediction_features, sign_prediction_labels, 31, 'macro')"
   ]
  },
  {
   "cell_type": "code",
   "execution_count": 82,
   "metadata": {},
   "outputs": [],
   "source": [
    "def plotaccuracy(k_list, accuracies, recalls, precision, f1, title):\n",
    "    plt.figure(figsize=(10, 8))\n",
    "    plt.plot(k_list, accuracies, label='accuracy')\n",
    "    plt.plot(k_list, recalls, label='recall')\n",
    "    plt.plot(k_list, precision, label='precision')\n",
    "    plt.plot(k_list, f1, label='f1')\n",
    "    plt.legend()\n",
    "    plt.xlabel(\"k\")\n",
    "    plt.ylabel(\"Validation Accuracy\")\n",
    "    plt.title(title)\n",
    "    plt.show()"
   ]
  },
  {
   "cell_type": "code",
   "execution_count": 83,
   "metadata": {},
   "outputs": [
    {
     "data": {
      "image/png": "[encoded data removed]",
      "text/plain": [
       "<Figure size 720x576 with 1 Axes>"
      ]
     },
     "metadata": {},
     "output_type": "display_data"
    }
   ],
   "source": [
    "plotaccuracy(sign_k_list, sign_accuracies, sign_recalls, sign_precisions, sign_f1, \"Sign Classifier Accuracy\")"
   ]
  },
  {
   "cell_type": "code",
   "execution_count": 84,
   "metadata": {},
   "outputs": [
    {
     "name": "stdout",
     "output_type": "stream",
     "text": [
      "1 12\n"
     ]
    }
   ],
   "source": [
    "print(min(sign_prediction), max(sign_prediction))"
   ]
  },
  {
   "cell_type": "code",
   "execution_count": 85,
   "metadata": {},
   "outputs": [
    {
     "data": {
      "image/png": "[encoded data removed]",
      "text/plain": [
       "<Figure size 432x288 with 1 Axes>"
      ]
     },
     "metadata": {},
     "output_type": "display_data"
    }
   ],
   "source": [
    "plt.hist(sign_prediction, bins=12)\n",
    "plt.title(\"Sign predictions\")\n",
    "plt.show()"
   ]
  },
  {
   "cell_type": "code",
   "execution_count": 86,
   "metadata": {},
   "outputs": [
    {
     "data": {
      "text/plain": [
       "0    35561\n",
       "2    19466\n",
       "1     4919\n",
       "Name: kids_segment_code, dtype: int64"
      ]
     },
     "execution_count": 86,
     "metadata": {},
     "output_type": "execute_result"
    }
   ],
   "source": [
    "df_codes.kids_segment_code.value_counts()"
   ]
  },
  {
   "cell_type": "code",
   "execution_count": null,
   "metadata": {},
   "outputs": [],
   "source": []
  },
  {
   "cell_type": "code",
   "execution_count": 87,
   "metadata": {},
   "outputs": [],
   "source": [
    "kids_prediction_data = df_codes[df_codes[\"kids_segment_code\"] > 0]"
   ]
  },
  {
   "cell_type": "code",
   "execution_count": 88,
   "metadata": {},
   "outputs": [
    {
     "data": {
      "text/plain": [
       "2    19466\n",
       "1     4919\n",
       "Name: kids_segment_code, dtype: int64"
      ]
     },
     "execution_count": 88,
     "metadata": {},
     "output_type": "execute_result"
    }
   ],
   "source": [
    "kids_prediction_data.kids_segment_code.value_counts()"
   ]
  },
  {
   "cell_type": "code",
   "execution_count": 89,
   "metadata": {},
   "outputs": [],
   "source": [
    "kids_prediction_features = kids_prediction_data.drop([\"kids_segment_code\"], axis=1)\n",
    "kids_prediction_labels = kids_prediction_data[\"kids_segment_code\"]"
   ]
  },
  {
   "cell_type": "code",
   "execution_count": 90,
   "metadata": {},
   "outputs": [
    {
     "name": "stdout",
     "output_type": "stream",
     "text": [
      "1 :  0.7855238876358417\n",
      "3 :  0.8050030756612672\n",
      "5 :  0.8195612056592168\n",
      "7 :  0.8218166905884765\n",
      "9 :  0.824892351855649\n",
      "11 :  0.8263276604469961\n",
      "13 :  0.8304285421365594\n",
      "15 :  0.8310436743899938\n",
      "17 :  0.8259175722780397\n",
      "19 :  0.8267377486159524\n",
      "21 :  0.8240721755177363\n",
      "23 :  0.8259175722780397\n",
      "25 :  0.8269427927004306\n",
      "27 :  0.8257125281935617\n",
      "29 :  0.8263276604469961\n",
      "31 :  0.8257125281935617\n",
      "33 :  0.827352880869387\n",
      "35 :  0.8263276604469961\n",
      "37 :  0.824892351855649\n",
      "39 :  0.8263276604469961\n"
     ]
    }
   ],
   "source": [
    "kids_k_list, kids_prediction, kids_accuracies, kids_recalls, kids_precisions, kids_f1 = knn(kids_prediction_features, kids_prediction_labels, 41, 'macro')"
   ]
  },
  {
   "cell_type": "code",
   "execution_count": 91,
   "metadata": {},
   "outputs": [
    {
     "data": {
      "image/png": "[encoded data removed]",
      "text/plain": [
       "<Figure size 720x576 with 1 Axes>"
      ]
     },
     "metadata": {},
     "output_type": "display_data"
    }
   ],
   "source": [
    "plotaccuracy(kids_k_list, kids_accuracies, kids_recalls, kids_precisions, kids_f1,\"Kids Classifier Accuracy\")"
   ]
  },
  {
   "cell_type": "code",
   "execution_count": 92,
   "metadata": {},
   "outputs": [
    {
     "name": "stdout",
     "output_type": "stream",
     "text": [
      "1 2\n"
     ]
    }
   ],
   "source": [
    "print(min(kids_prediction), max(kids_prediction))"
   ]
  },
  {
   "cell_type": "code",
   "execution_count": 93,
   "metadata": {},
   "outputs": [
    {
     "name": "stdout",
     "output_type": "stream",
     "text": [
      "[2 1 2 ... 2 2 2]\n"
     ]
    }
   ],
   "source": [
    "print(kids_prediction)"
   ]
  },
  {
   "cell_type": "code",
   "execution_count": 94,
   "metadata": {},
   "outputs": [
    {
     "data": {
      "image/png": "[encoded data removed]",
      "text/plain": [
       "<Figure size 432x288 with 1 Axes>"
      ]
     },
     "metadata": {},
     "output_type": "display_data"
    }
   ],
   "source": [
    "plt.hist(kids_prediction, bins=2)\n",
    "plt.title(\"Kids prediction (1=No, 2=Yes)\")\n",
    "plt.show()"
   ]
  },
  {
   "cell_type": "code",
   "execution_count": 95,
   "metadata": {},
   "outputs": [],
   "source": [
    "smokes_prediction_data = df_codes[df_codes[\"smokes_code\"] > 0]"
   ]
  },
  {
   "cell_type": "code",
   "execution_count": 96,
   "metadata": {},
   "outputs": [
    {
     "data": {
      "text/plain": [
       "1    43896\n",
       "3     3787\n",
       "2     3040\n",
       "5     2231\n",
       "4     1480\n",
       "Name: smokes_code, dtype: int64"
      ]
     },
     "execution_count": 96,
     "metadata": {},
     "output_type": "execute_result"
    }
   ],
   "source": [
    "smokes_prediction_data.smokes_code.value_counts()"
   ]
  },
  {
   "cell_type": "code",
   "execution_count": 97,
   "metadata": {},
   "outputs": [],
   "source": [
    "smokes_prediction_features = smokes_prediction_data.drop([\"smokes_code\"], axis=1)\n",
    "smokes_prediction_labels = smokes_prediction_data[\"smokes_code\"]"
   ]
  },
  {
   "cell_type": "code",
   "execution_count": 98,
   "metadata": {},
   "outputs": [
    {
     "name": "stdout",
     "output_type": "stream",
     "text": [
      "1 :  0.68733351703867\n",
      "3 :  0.787269220170846\n",
      "5 :  0.7981996877009278\n",
      "7 :  0.8027004684486084\n",
      "9 :  0.8038027004684486\n",
      "11 :  0.8052723431615688\n",
      "13 :  0.8060990171764489\n"
     ]
    }
   ],
   "source": [
    "smokes_k_list, smokes_prediction, smokes_accuracies, smokes_recalls, smokes_precisions, smokes_f1 = knn(smokes_prediction_features, smokes_prediction_labels, 15, 'macro')\n"
   ]
  },
  {
   "cell_type": "code",
   "execution_count": 99,
   "metadata": {},
   "outputs": [
    {
     "data": {
      "image/png": "[encoded data removed]",
      "text/plain": [
       "<Figure size 720x576 with 1 Axes>"
      ]
     },
     "metadata": {},
     "output_type": "display_data"
    }
   ],
   "source": [
    "plotaccuracy(smokes_k_list, smokes_accuracies, smokes_recalls, smokes_precisions, smokes_f1,\"Smokes Classifier Accuracy\")"
   ]
  },
  {
   "cell_type": "code",
   "execution_count": 100,
   "metadata": {},
   "outputs": [],
   "source": [
    "#print(min(smokes_prediction), max(smokes_prediction))"
   ]
  },
  {
   "cell_type": "code",
   "execution_count": 101,
   "metadata": {},
   "outputs": [
    {
     "data": {
      "image/png": "[encoded data removed]",
      "text/plain": [
       "<Figure size 432x288 with 1 Axes>"
      ]
     },
     "metadata": {},
     "output_type": "display_data"
    }
   ],
   "source": [
    "plt.hist(smokes_prediction, bins=5)\n",
    "plt.title(\"Smokes prediction\")\n",
    "plt.show()"
   ]
  },
  {
   "cell_type": "markdown",
   "metadata": {},
   "source": [
    "\"1\" (no smoker) always predicted. Accuracy is 80%, however, precision and recall are low."
   ]
  },
  {
   "cell_type": "code",
   "execution_count": 114,
   "metadata": {},
   "outputs": [],
   "source": [
    "#smokes_prediction_labels_bin.value_counts()"
   ]
  },
  {
   "cell_type": "code",
   "execution_count": 103,
   "metadata": {},
   "outputs": [],
   "source": [
    "smokes_prediction_labels_bin = smokes_prediction_labels.apply(lambda x: 1 if x==1 else 2)"
   ]
  },
  {
   "cell_type": "code",
   "execution_count": 104,
   "metadata": {},
   "outputs": [
    {
     "data": {
      "text/plain": [
       "1    43896\n",
       "2    10538\n",
       "Name: smokes_code, dtype: int64"
      ]
     },
     "execution_count": 104,
     "metadata": {},
     "output_type": "execute_result"
    }
   ],
   "source": [
    "smokes_prediction_labels_bin.value_counts()"
   ]
  },
  {
   "cell_type": "code",
   "execution_count": 105,
   "metadata": {},
   "outputs": [
    {
     "name": "stdout",
     "output_type": "stream",
     "text": [
      "1 :  0.7193900982823551\n",
      "3 :  0.7628364103977221\n",
      "5 :  0.7818499127399651\n",
      "7 :  0.7908514742353265\n",
      "9 :  0.7951685496463672\n",
      "11 :  0.7988426563791678\n",
      "13 :  0.8011389730871682\n",
      "15 :  0.8026086157802884\n",
      "17 :  0.8043538164783687\n",
      "19 :  0.8043538164783687\n",
      "21 :  0.8054560484982088\n",
      "23 :  0.8048130798199687\n",
      "25 :  0.8048130798199687\n",
      "27 :  0.8059153118398089\n",
      "29 :  0.8056397538348489\n"
     ]
    }
   ],
   "source": [
    "smokes_k_list, smokes_prediction, smokes_accuracies, smokes_recalls, smokes_precisions, smokes_f1 = knn(smokes_prediction_features, smokes_prediction_labels_bin, 31, 'binary')\n"
   ]
  },
  {
   "cell_type": "code",
   "execution_count": 106,
   "metadata": {},
   "outputs": [
    {
     "data": {
      "image/png": "[encoded data removed]",
      "text/plain": [
       "<Figure size 720x576 with 1 Axes>"
      ]
     },
     "metadata": {},
     "output_type": "display_data"
    }
   ],
   "source": [
    "plotaccuracy(smokes_k_list, smokes_accuracies, smokes_recalls, smokes_precisions, smokes_f1,\"Smokes Classifier Accuracy\")"
   ]
  },
  {
   "cell_type": "code",
   "execution_count": 107,
   "metadata": {},
   "outputs": [
    {
     "data": {
      "image/png": "[encoded data removed]",
      "text/plain": [
       "<Figure size 432x288 with 1 Axes>"
      ]
     },
     "metadata": {},
     "output_type": "display_data"
    }
   ],
   "source": [
    "plt.hist(smokes_prediction, bins=5)\n",
    "plt.title(\"Smokes prediction\")\n",
    "plt.show()"
   ]
  },
  {
   "cell_type": "code",
   "execution_count": 108,
   "metadata": {},
   "outputs": [],
   "source": [
    "def SVC_lin(prediction_data, prediction_target):\n",
    "    training_data, validation_data, training_labels, validation_labels = train_test_split(prediction_data, prediction_target, test_size = 0.2, random_state = 100)\n",
    "    #print(len(training_data), len(training_labels))\n",
    "    #print(len(validation_data), len(validation_labels))\n",
    "    C_list = []\n",
    "    accuracies = []\n",
    "    recalls = []\n",
    "    precisions = []\n",
    "    f1s = []   \n",
    "    for c in range(1, 2):\n",
    "        c = c/100\n",
    "        classifier = SVC(kernel=\"linear\", C=c)\n",
    "        classifier.fit(training_data, training_labels)\n",
    "        print('C: ', c, ': ', classifier.score(validation_data, validation_labels))\n",
    "        C_list.append(c)\n",
    "        y_predict = classifier.predict(validation_data)\n",
    "        accuracies.append(metrics.accuracy_score(validation_labels, y_predict))\n",
    "        recalls.append(metrics.recall_score(validation_labels, y_predict, average='macro'))\n",
    "        precisions.append(metrics.precision_score(validation_labels, y_predict, average='macro'))\n",
    "        f1s.append(metrics.f1_score(validation_labels, y_predict, average='macro'))\n",
    "    return C_list, y_predict, accuracies, recalls, precisions, f1s"
   ]
  },
  {
   "cell_type": "code",
   "execution_count": 109,
   "metadata": {},
   "outputs": [],
   "source": [
    "def SVC_rbf(prediction_data, prediction_target):\n",
    "    training_data, validation_data, training_labels, validation_labels = train_test_split(prediction_data, prediction_target, test_size = 0.2, random_state = 100)\n",
    "    #print(len(training_data), len(training_labels))\n",
    "    #print(len(validation_data), len(validation_labels))\n",
    "    C_list = []\n",
    "    accuracies = []\n",
    "    recalls = []\n",
    "    precisions = []\n",
    "    f1s = []   \n",
    "    for c in range(1, 2):\n",
    "        c = c/100\n",
    "        for gamma in range(1, 2):            \n",
    "            gamma = gamma/10\n",
    "            classifier = SVC(kernel = \"rbf\", gamma = gamma, C = c)\n",
    "            classifier.fit(training_data, training_labels)\n",
    "            print('C: ', c, ' gamma: ', gamma, ': ', classifier.score(validation_data, validation_labels))\n",
    "            C_list.append(c)\n",
    "            y_predict = classifier.predict(validation_data)\n",
    "            accuracies.append(metrics.accuracy_score(validation_labels, y_predict))\n",
    "            recalls.append(metrics.recall_score(validation_labels, y_predict, average='macro'))\n",
    "            precisions.append(metrics.precision_score(validation_labels, y_predict, average='macro'))\n",
    "            f1s.append(metrics.f1_score(validation_labels, y_predict, average='macro'))   \n",
    "    return C_list, y_predict, accuracies, recalls, precisions, f1s"
   ]
  },
  {
   "cell_type": "code",
   "execution_count": 110,
   "metadata": {},
   "outputs": [
    {
     "name": "stdout",
     "output_type": "stream",
     "text": [
      "0.01 :  0.8335042034037318\n"
     ]
    }
   ],
   "source": [
    "#The following code takes too long to run. Features dataset too large\n",
    "#Clist_SVClin, y_predict_SVClin, kids_accuracies_SVClin, kids_recalls_SVClin, kids_precisions_SVClin, kids_f1_SVClin = SVC_lin(kids_prediction_features, kids_prediction_labels)"
   ]
  },
  {
   "cell_type": "code",
   "execution_count": 217,
   "metadata": {},
   "outputs": [],
   "source": [
    "#The following code takes too long to run. Features dataset too large\n",
    "#Clist_SVC_rbf, y_predict_SVC_rbf, kids_accuracies_SVCrbf, kids_recalls_SVCrbf, kids_precisions_SVCrbf, kids_f1_SVCrbf = SVC_rbf(kids_prediction_features, kids_prediction_labels)"
   ]
  },
  {
   "cell_type": "code",
   "execution_count": 112,
   "metadata": {},
   "outputs": [
    {
     "name": "stdout",
     "output_type": "stream",
     "text": [
      "Accuracy:  [0.8335042034037318]\n",
      "Recall:  [0.6826629182179672]\n",
      "Precision:  [0.761470949928071]\n",
      "F1 score:  [0.7077728799291121]\n"
     ]
    }
   ],
   "source": [
    "print(\"Accuracy: \", kids_accuracies_SVClin)\n",
    "print(\"Recall: \", kids_recalls_SVClin)\n",
    "print(\"Precision: \", kids_precisions_SVClin)\n",
    "print(\"F1 score: \", kids_f1_SVClin)"
   ]
  },
  {
   "cell_type": "code",
   "execution_count": 113,
   "metadata": {},
   "outputs": [
    {
     "name": "stdout",
     "output_type": "stream",
     "text": [
      "Accuracy:  [0.7898298134098831]\n",
      "Recall:  [0.5]\n",
      "Precision:  [0.39491490670494156]\n",
      "F1 score:  [0.4412876618169321]\n"
     ]
    }
   ],
   "source": [
    "print(\"Accuracy: \", kids_accuracies_SVCrbf)\n",
    "print(\"Recall: \", kids_recalls_SVCrbf)\n",
    "print(\"Precision: \", kids_precisions_SVCrbf)\n",
    "print(\"F1 score: \", kids_f1_SVCrbf)"
   ]
  },
  {
   "cell_type": "code",
   "execution_count": 117,
   "metadata": {},
   "outputs": [
    {
     "data": {
      "text/plain": [
       "age                     -0.525257\n",
       "age_segment_code        -0.491336\n",
       "sex_code                -0.071091\n",
       "religion_segment_code   -0.054333\n",
       "status_code             -0.040583\n",
       "i_me_frequency          -0.021213\n",
       "sign_code               -0.016467\n",
       "body_type_code          -0.010101\n",
       "income                  -0.006782\n",
       "drugs_code              -0.001460\n",
       "job_segment_code         0.003808\n",
       "smokes_code              0.014740\n",
       "text_length              0.023677\n",
       "education_status_code    0.027630\n",
       "height                   0.053736\n",
       "orientation_code         0.058700\n",
       "avg_word_length          0.065691\n",
       "drinks_code              0.073213\n",
       "education_level_code     0.080932\n",
       "diet_type_code           0.086541\n",
       "diet_strictness_code     0.092104\n",
       "pets_segment_code        0.123261\n",
       "kids_segment_code        1.000000\n",
       "Name: kids_segment_code, dtype: float64"
      ]
     },
     "execution_count": 117,
     "metadata": {},
     "output_type": "execute_result"
    }
   ],
   "source": [
    "#Finding 4 features that correlate well with kids_segment_code\n",
    "kids_prediction_data.corr().sort_values('kids_segment_code')['kids_segment_code']\n"
   ]
  },
  {
   "cell_type": "code",
   "execution_count": 120,
   "metadata": {},
   "outputs": [],
   "source": [
    "kids_prediction_features_small = kids_prediction_data[[\"age_segment_code\", \"sex_code\", \"pets_segment_code\", \"diet_strictness_code\"]]\n",
    "\n"
   ]
  },
  {
   "cell_type": "code",
   "execution_count": 121,
   "metadata": {},
   "outputs": [
    {
     "name": "stdout",
     "output_type": "stream",
     "text": [
      "0.01 :  0.837605085093295\n"
     ]
    }
   ],
   "source": [
    "Clist_SVClin, y_predict_SVClin, kids_accuracies_SVClin, kids_recalls_SVClin, kids_precisions_SVClin, kids_f1_SVClin = SVC_lin(kids_prediction_features_small, kids_prediction_labels)"
   ]
  },
  {
   "cell_type": "code",
   "execution_count": 122,
   "metadata": {},
   "outputs": [
    {
     "name": "stdout",
     "output_type": "stream",
     "text": [
      "C:  0.01  gamma:  0.1 :  0.837605085093295\n"
     ]
    }
   ],
   "source": [
    "Clist_SVC_rbf, y_predict_SVC_rbf, kids_accuracies_SVCrbf, kids_recalls_SVCrbf, kids_precisions_SVCrbf, kids_f1_SVCrbf = SVC_rbf(kids_prediction_features_small, kids_prediction_labels)"
   ]
  },
  {
   "cell_type": "code",
   "execution_count": 123,
   "metadata": {},
   "outputs": [
    {
     "name": "stdout",
     "output_type": "stream",
     "text": [
      "Accuracy:  [0.837605085093295]\n",
      "Recall:  [0.6691488741990224]\n",
      "Precision:  [0.7837857074262268]\n",
      "F1 score:  [0.6990737047323206]\n"
     ]
    }
   ],
   "source": [
    "print(\"Accuracy: \", kids_accuracies_SVClin)\n",
    "print(\"Recall: \", kids_recalls_SVClin)\n",
    "print(\"Precision: \", kids_precisions_SVClin)\n",
    "print(\"F1 score: \", kids_f1_SVClin)"
   ]
  },
  {
   "cell_type": "code",
   "execution_count": 124,
   "metadata": {},
   "outputs": [
    {
     "name": "stdout",
     "output_type": "stream",
     "text": [
      "Accuracy:  [0.837605085093295]\n",
      "Recall:  [0.6691488741990224]\n",
      "Precision:  [0.7837857074262268]\n",
      "F1 score:  [0.6990737047323206]\n"
     ]
    }
   ],
   "source": [
    "print(\"Accuracy: \", kids_accuracies_SVCrbf)\n",
    "print(\"Recall: \", kids_recalls_SVCrbf)\n",
    "print(\"Precision: \", kids_precisions_SVCrbf)\n",
    "print(\"F1 score: \", kids_f1_SVCrbf)"
   ]
  },
  {
   "cell_type": "code",
   "execution_count": 139,
   "metadata": {},
   "outputs": [
    {
     "data": {
      "image/png": "[encoded data removed]",
      "text/plain": [
       "<Figure size 1152x432 with 2 Axes>"
      ]
     },
     "metadata": {},
     "output_type": "display_data"
    }
   ],
   "source": [
    "plt.figure(figsize=(16, 6))\n",
    "plt.subplot(121)\n",
    "plt.hist(y_predict_SVClin, bins=5, alpha=0.4)\n",
    "plt.title(\"Kids prediction SVC linear\")\n",
    "plt.subplot(122)\n",
    "plt.hist(y_predict_SVC_rbf, bins=5, alpha=0.4)\n",
    "plt.title(\"Kids prediction SVC rbf\")\n",
    "plt.show()"
   ]
  },
  {
   "cell_type": "markdown",
   "metadata": {},
   "source": [
    "### Regression"
   ]
  },
  {
   "cell_type": "code",
   "execution_count": 140,
   "metadata": {},
   "outputs": [],
   "source": [
    "from sklearn.neighbors import KNeighborsRegressor"
   ]
  },
  {
   "cell_type": "code",
   "execution_count": 163,
   "metadata": {},
   "outputs": [],
   "source": [
    "def knn_regressor(prediction_data, prediction_target, maxk):\n",
    "    training_data, validation_data, training_labels, validation_labels = train_test_split(prediction_data, prediction_target, test_size = 0.2, random_state = 100)\n",
    "    k_list = []\n",
    "    accuracies = []\n",
    "    r2s = []\n",
    "    for k in range(1, maxk, 2):\n",
    "        regressor = KNeighborsRegressor(n_neighbors = k, weights='distance')\n",
    "        regressor.fit(training_data, training_labels)\n",
    "        print(k, ': ', regressor.score(validation_data, validation_labels))\n",
    "        k_list.append(k)\n",
    "        y_predict = regressor.predict(validation_data)\n",
    "        accuracies.append(regressor.score(validation_data, validation_labels))\n",
    "        r2s.append(metrics.r2_score(validation_labels, y_predict))\n",
    "    return k_list, y_predict, accuracies, r2s"
   ]
  },
  {
   "cell_type": "code",
   "execution_count": 142,
   "metadata": {},
   "outputs": [
    {
     "data": {
      "text/plain": [
       "-1          48442\n",
       " 20000       2952\n",
       " 100000      1621\n",
       " 80000       1111\n",
       " 30000       1048\n",
       " 40000       1005\n",
       " 50000        975\n",
       " 60000        736\n",
       " 70000        707\n",
       " 150000       631\n",
       " 1000000      521\n",
       " 250000       149\n",
       " 500000        48\n",
       "Name: income, dtype: int64"
      ]
     },
     "execution_count": 142,
     "metadata": {},
     "output_type": "execute_result"
    }
   ],
   "source": [
    "df_codes.income.value_counts()"
   ]
  },
  {
   "cell_type": "code",
   "execution_count": 143,
   "metadata": {},
   "outputs": [],
   "source": [
    "income_prediction_data = df_codes[df_codes[\"income\"] > 0]"
   ]
  },
  {
   "cell_type": "code",
   "execution_count": 144,
   "metadata": {},
   "outputs": [
    {
     "data": {
      "text/plain": [
       "20000      2952\n",
       "100000     1621\n",
       "80000      1111\n",
       "30000      1048\n",
       "40000      1005\n",
       "50000       975\n",
       "60000       736\n",
       "70000       707\n",
       "150000      631\n",
       "1000000     521\n",
       "250000      149\n",
       "500000       48\n",
       "Name: income, dtype: int64"
      ]
     },
     "execution_count": 144,
     "metadata": {},
     "output_type": "execute_result"
    }
   ],
   "source": [
    "income_prediction_data.income.value_counts()"
   ]
  },
  {
   "cell_type": "code",
   "execution_count": 145,
   "metadata": {},
   "outputs": [],
   "source": [
    "income_prediction_features = income_prediction_data[[\"text_length\", \"avg_word_length\"]]\n",
    "income_prediction_labels = income_prediction_data[\"income\"]"
   ]
  },
  {
   "cell_type": "code",
   "execution_count": 164,
   "metadata": {},
   "outputs": [
    {
     "name": "stdout",
     "output_type": "stream",
     "text": [
      "1 :  -0.8649188521206206\n",
      "3 :  -0.3771793119358484\n",
      "5 :  -0.2794282098948013\n",
      "7 :  -0.2402410682280276\n",
      "9 :  -0.22133192336222685\n",
      "11 :  -0.20157428551101364\n",
      "13 :  -0.1897858210103385\n",
      "15 :  -0.1788751700492437\n",
      "17 :  -0.17158103701985072\n",
      "19 :  -0.16630353051026048\n",
      "21 :  -0.16059184353228928\n",
      "23 :  -0.1546505721317788\n",
      "25 :  -0.1501118457845696\n",
      "27 :  -0.1476064383995368\n",
      "29 :  -0.1430316272469283\n",
      "31 :  -0.14018547984268115\n",
      "33 :  -0.13771187668575902\n",
      "35 :  -0.13498413206635873\n",
      "37 :  -0.13239621834358672\n",
      "39 :  -0.13052538117510348\n"
     ]
    }
   ],
   "source": [
    "k_list_income, y_predict_income, accuracies_income, r2_income = knn_regressor(income_prediction_features, income_prediction_labels, 41)\n"
   ]
  },
  {
   "cell_type": "code",
   "execution_count": 167,
   "metadata": {},
   "outputs": [],
   "source": [
    "def plotaccuracy_regr(k_list, accuracies, r2, title):\n",
    "    plt.figure(figsize=(10, 8))\n",
    "    plt.plot(k_list, accuracies, label='accuracy')\n",
    "#    plt.plot(k_list, r2, label='r2')\n",
    "    plt.legend()\n",
    "    plt.xlabel(\"k\")\n",
    "    plt.ylabel(\"Validation Accuracy\")\n",
    "    plt.title(title)\n",
    "    plt.show()"
   ]
  },
  {
   "cell_type": "code",
   "execution_count": 168,
   "metadata": {},
   "outputs": [
    {
     "data": {
      "image/png": "[encoded data removed]",
      "text/plain": [
       "<Figure size 720x576 with 1 Axes>"
      ]
     },
     "metadata": {},
     "output_type": "display_data"
    }
   ],
   "source": [
    "plotaccuracy_regr(k_list_income, accuracies_income, r2_income, \"Income Accuracy\")"
   ]
  },
  {
   "cell_type": "code",
   "execution_count": 169,
   "metadata": {},
   "outputs": [
    {
     "data": {
      "text/plain": [
       "26     3724\n",
       "27     3685\n",
       "28     3583\n",
       "25     3531\n",
       "29     3295\n",
       "24     3242\n",
       "30     3149\n",
       "31     2735\n",
       "23     2592\n",
       "32     2587\n",
       "33     2206\n",
       "22     1934\n",
       "34     1902\n",
       "35     1755\n",
       "36     1583\n",
       "37     1427\n",
       "38     1330\n",
       "21     1282\n",
       "39     1172\n",
       "42     1072\n",
       "40     1030\n",
       "41      980\n",
       "20      953\n",
       "43      858\n",
       "44      708\n",
       "45      643\n",
       "19      611\n",
       "46      578\n",
       "47      529\n",
       "48      481\n",
       "49      459\n",
       "50      437\n",
       "51      350\n",
       "52      344\n",
       "18      309\n",
       "56      271\n",
       "54      267\n",
       "55      265\n",
       "57      256\n",
       "53      252\n",
       "59      221\n",
       "58      197\n",
       "60      195\n",
       "61      176\n",
       "62      167\n",
       "63      138\n",
       "64      113\n",
       "65      109\n",
       "66      105\n",
       "67       66\n",
       "68       59\n",
       "69       31\n",
       "110       1\n",
       "109       1\n",
       "Name: age, dtype: int64"
      ]
     },
     "execution_count": 169,
     "metadata": {},
     "output_type": "execute_result"
    }
   ],
   "source": [
    "df_codes.age.value_counts()"
   ]
  },
  {
   "cell_type": "code",
   "execution_count": 204,
   "metadata": {},
   "outputs": [],
   "source": [
    "age_prediction_data = df_codes[df_codes[\"age\"] < 100] #Removing outliers"
   ]
  },
  {
   "cell_type": "code",
   "execution_count": 205,
   "metadata": {},
   "outputs": [],
   "source": [
    "#age_prediction_data = normalize_data(age_prediction_data)"
   ]
  },
  {
   "cell_type": "code",
   "execution_count": 206,
   "metadata": {},
   "outputs": [],
   "source": [
    "age_prediction_features = age_prediction_data[[\"i_me_frequency\"]]\n",
    "age_prediction_labels = age_prediction_data[\"age\"]"
   ]
  },
  {
   "cell_type": "code",
   "execution_count": 207,
   "metadata": {},
   "outputs": [
    {
     "name": "stdout",
     "output_type": "stream",
     "text": [
      "1 :  -1.0133106233947844\n",
      "3 :  -0.37178030723334743\n",
      "5 :  -0.2617805697552906\n",
      "7 :  -0.2347909486259332\n",
      "9 :  -0.20217862609754866\n",
      "11 :  -0.194035452414836\n",
      "13 :  -0.18246033326040179\n",
      "15 :  -0.1724994173646146\n",
      "17 :  -0.16578558912551955\n",
      "19 :  -0.1621350687111831\n",
      "21 :  -0.15845885497310097\n",
      "23 :  -0.1580635675006301\n",
      "25 :  -0.1564757546666471\n",
      "27 :  -0.15841728337141592\n",
      "29 :  -0.16033554951117135\n",
      "31 :  -0.1605647014499303\n",
      "33 :  -0.1614278856315816\n",
      "35 :  -0.15775653500520215\n",
      "37 :  -0.15835681585081307\n",
      "39 :  -0.1594069329037906\n"
     ]
    }
   ],
   "source": [
    "k_list_age, y_predict_age, accuracies_age, r2_age = knn_regressor(age_prediction_features, age_prediction_labels, 41)\n"
   ]
  },
  {
   "cell_type": "code",
   "execution_count": 208,
   "metadata": {},
   "outputs": [
    {
     "data": {
      "image/png": "[encoded data removed]",
      "text/plain": [
       "<Figure size 720x576 with 1 Axes>"
      ]
     },
     "metadata": {},
     "output_type": "display_data"
    }
   ],
   "source": [
    "plotaccuracy_regr(k_list_age, accuracies_age, r2_age, \"Age Accuracy\")"
   ]
  },
  {
   "cell_type": "code",
   "execution_count": 209,
   "metadata": {},
   "outputs": [],
   "source": [
    "from sklearn.linear_model import LinearRegression"
   ]
  },
  {
   "cell_type": "code",
   "execution_count": 210,
   "metadata": {},
   "outputs": [],
   "source": [
    "def linregr(x, y):\n",
    "    x_train, x_test, y_train, y_test = train_test_split(x, y, train_size = 0.8, test_size = 0.2, random_state=100)\n",
    "    mlr = LinearRegression()\n",
    "    model = mlr.fit(x_train, y_train)\n",
    "    y_predict = mlr.predict(x_test)\n",
    "    print(\"Train score:\")\n",
    "    print(mlr.score(x_train, y_train))\n",
    "    print(\"Test score:\")\n",
    "    print(mlr.score(x_test, y_test))\n",
    "    return y_test, y_predict"
   ]
  },
  {
   "cell_type": "code",
   "execution_count": 211,
   "metadata": {},
   "outputs": [
    {
     "name": "stdout",
     "output_type": "stream",
     "text": [
      "Train score:\n",
      "0.0021804643191750683\n",
      "Test score:\n",
      "0.001183747903015786\n"
     ]
    }
   ],
   "source": [
    "y_test_income, y_predict_income = linregr(income_prediction_features, income_prediction_labels)"
   ]
  },
  {
   "cell_type": "code",
   "execution_count": 212,
   "metadata": {},
   "outputs": [
    {
     "data": {
      "image/png": "[encoded data removed]",
      "text/plain": [
       "<Figure size 432x288 with 1 Axes>"
      ]
     },
     "metadata": {},
     "output_type": "display_data"
    }
   ],
   "source": [
    "residuals = y_predict_income - y_test_income\n",
    "\n",
    "plt.scatter(y_predict_income, residuals, alpha=0.4)\n",
    "plt.title('Residuals Analysis')\n",
    "plt.xlabel(\"Predicted Income\")\n",
    "plt.ylabel(\"Residuals\")\n",
    "plt.show()"
   ]
  },
  {
   "cell_type": "code",
   "execution_count": 213,
   "metadata": {},
   "outputs": [
    {
     "name": "stdout",
     "output_type": "stream",
     "text": [
      "Train score:\n",
      "0.003647532104498641\n",
      "Test score:\n",
      "0.0034674981650129055\n"
     ]
    }
   ],
   "source": [
    "y_test_age, y_predict_age = linregr(age_prediction_features, age_prediction_labels)"
   ]
  },
  {
   "cell_type": "code",
   "execution_count": 214,
   "metadata": {},
   "outputs": [
    {
     "data": {
      "image/png": "[encoded data removed]",
      "text/plain": [
       "<Figure size 432x288 with 1 Axes>"
      ]
     },
     "metadata": {},
     "output_type": "display_data"
    }
   ],
   "source": [
    "residuals = y_predict_age - y_test_age\n",
    "\n",
    "plt.scatter(y_predict_age, residuals, alpha=0.4)\n",
    "plt.title('Residuals Analysis')\n",
    "plt.xlabel(\"Predicted Age\")\n",
    "plt.ylabel(\"Residuals\")\n",
    "plt.show()"
   ]
  },
  {
   "cell_type": "markdown",
   "metadata": {},
   "source": [
    "We observe that predicted age is nearly always between 30 and 34 years. Residuals (predicted - actual) is between -40 (actual age much higher than predicted) and 15 (actual age lower than predicted. The accuracy of the prediction is very low."
   ]
  },
  {
   "cell_type": "code",
   "execution_count": 218,
   "metadata": {},
   "outputs": [],
   "source": [
    "age_segment_prediction_data = df_codes"
   ]
  },
  {
   "cell_type": "code",
   "execution_count": 221,
   "metadata": {},
   "outputs": [
    {
     "data": {
      "text/plain": [
       "Index(['age', 'height', 'income', 'age_segment_code', 'body_type_code',\n",
       "       'diet_strictness_code', 'diet_type_code', 'drinks_code', 'smokes_code',\n",
       "       'drugs_code', 'education_level_code', 'education_status_code',\n",
       "       'job_segment_code', 'kids_segment_code', 'orientation_code',\n",
       "       'pets_segment_code', 'religion_segment_code', 'sex_code', 'sign_code',\n",
       "       'status_code', 'text_length', 'avg_word_length', 'i_me_frequency'],\n",
       "      dtype='object')"
      ]
     },
     "execution_count": 221,
     "metadata": {},
     "output_type": "execute_result"
    }
   ],
   "source": [
    "age_segment_prediction_data.columns"
   ]
  },
  {
   "cell_type": "code",
   "execution_count": 224,
   "metadata": {},
   "outputs": [
    {
     "data": {
      "text/plain": [
       "2    21060\n",
       "3    19846\n",
       "1     7372\n",
       "4     7338\n",
       "5     2860\n",
       "6     1159\n",
       "0      309\n",
       "7        2\n",
       "Name: age_segment_code, dtype: int64"
      ]
     },
     "execution_count": 224,
     "metadata": {},
     "output_type": "execute_result"
    }
   ],
   "source": [
    "age_segment_prediction_data.age_segment_code.value_counts()"
   ]
  },
  {
   "cell_type": "code",
   "execution_count": 225,
   "metadata": {},
   "outputs": [],
   "source": [
    "age_segment_prediction_labels = age_segment_prediction_data['age_segment_code']\n",
    "age_segment_prediction_features = age_segment_prediction_data.drop([\"age\", \"age_segment_code\"], axis=1)"
   ]
  },
  {
   "cell_type": "code",
   "execution_count": 226,
   "metadata": {},
   "outputs": [
    {
     "name": "stdout",
     "output_type": "stream",
     "text": [
      "1 :  0.28582151793160965\n",
      "3 :  0.29849874895746453\n",
      "5 :  0.3276897414512093\n",
      "7 :  0.332860717264387\n",
      "9 :  0.34236864053377813\n"
     ]
    },
    {
     "name": "stderr",
     "output_type": "stream",
     "text": [
      "/Volumes/Macintosh_HD/Python/miniconda3/lib/python3.6/site-packages/sklearn/metrics/classification.py:1143: UndefinedMetricWarning: Precision is ill-defined and being set to 0.0 in labels with no predicted samples.\n",
      "  'precision', 'predicted', average, warn_for)\n",
      "/Volumes/Macintosh_HD/Python/miniconda3/lib/python3.6/site-packages/sklearn/metrics/classification.py:1143: UndefinedMetricWarning: F-score is ill-defined and being set to 0.0 in labels with no predicted samples.\n",
      "  'precision', 'predicted', average, warn_for)\n"
     ]
    },
    {
     "name": "stdout",
     "output_type": "stream",
     "text": [
      "11 :  0.3448707256046706\n"
     ]
    },
    {
     "name": "stderr",
     "output_type": "stream",
     "text": [
      "/Volumes/Macintosh_HD/Python/miniconda3/lib/python3.6/site-packages/sklearn/metrics/classification.py:1143: UndefinedMetricWarning: Precision is ill-defined and being set to 0.0 in labels with no predicted samples.\n",
      "  'precision', 'predicted', average, warn_for)\n",
      "/Volumes/Macintosh_HD/Python/miniconda3/lib/python3.6/site-packages/sklearn/metrics/classification.py:1143: UndefinedMetricWarning: F-score is ill-defined and being set to 0.0 in labels with no predicted samples.\n",
      "  'precision', 'predicted', average, warn_for)\n"
     ]
    },
    {
     "name": "stdout",
     "output_type": "stream",
     "text": [
      "13 :  0.3530442035029191\n"
     ]
    },
    {
     "name": "stderr",
     "output_type": "stream",
     "text": [
      "/Volumes/Macintosh_HD/Python/miniconda3/lib/python3.6/site-packages/sklearn/metrics/classification.py:1143: UndefinedMetricWarning: Precision is ill-defined and being set to 0.0 in labels with no predicted samples.\n",
      "  'precision', 'predicted', average, warn_for)\n",
      "/Volumes/Macintosh_HD/Python/miniconda3/lib/python3.6/site-packages/sklearn/metrics/classification.py:1143: UndefinedMetricWarning: F-score is ill-defined and being set to 0.0 in labels with no predicted samples.\n",
      "  'precision', 'predicted', average, warn_for)\n"
     ]
    },
    {
     "name": "stdout",
     "output_type": "stream",
     "text": [
      "15 :  0.35704753961634694\n"
     ]
    },
    {
     "name": "stderr",
     "output_type": "stream",
     "text": [
      "/Volumes/Macintosh_HD/Python/miniconda3/lib/python3.6/site-packages/sklearn/metrics/classification.py:1143: UndefinedMetricWarning: Precision is ill-defined and being set to 0.0 in labels with no predicted samples.\n",
      "  'precision', 'predicted', average, warn_for)\n",
      "/Volumes/Macintosh_HD/Python/miniconda3/lib/python3.6/site-packages/sklearn/metrics/classification.py:1143: UndefinedMetricWarning: F-score is ill-defined and being set to 0.0 in labels with no predicted samples.\n",
      "  'precision', 'predicted', average, warn_for)\n"
     ]
    },
    {
     "name": "stdout",
     "output_type": "stream",
     "text": [
      "17 :  0.35696413678065053\n"
     ]
    },
    {
     "name": "stderr",
     "output_type": "stream",
     "text": [
      "/Volumes/Macintosh_HD/Python/miniconda3/lib/python3.6/site-packages/sklearn/metrics/classification.py:1143: UndefinedMetricWarning: Precision is ill-defined and being set to 0.0 in labels with no predicted samples.\n",
      "  'precision', 'predicted', average, warn_for)\n",
      "/Volumes/Macintosh_HD/Python/miniconda3/lib/python3.6/site-packages/sklearn/metrics/classification.py:1143: UndefinedMetricWarning: F-score is ill-defined and being set to 0.0 in labels with no predicted samples.\n",
      "  'precision', 'predicted', average, warn_for)\n"
     ]
    },
    {
     "name": "stdout",
     "output_type": "stream",
     "text": [
      "19 :  0.35988323603002503\n"
     ]
    },
    {
     "name": "stderr",
     "output_type": "stream",
     "text": [
      "/Volumes/Macintosh_HD/Python/miniconda3/lib/python3.6/site-packages/sklearn/metrics/classification.py:1143: UndefinedMetricWarning: Precision is ill-defined and being set to 0.0 in labels with no predicted samples.\n",
      "  'precision', 'predicted', average, warn_for)\n",
      "/Volumes/Macintosh_HD/Python/miniconda3/lib/python3.6/site-packages/sklearn/metrics/classification.py:1143: UndefinedMetricWarning: F-score is ill-defined and being set to 0.0 in labels with no predicted samples.\n",
      "  'precision', 'predicted', average, warn_for)\n"
     ]
    },
    {
     "name": "stdout",
     "output_type": "stream",
     "text": [
      "21 :  0.36088407005838197\n"
     ]
    },
    {
     "name": "stderr",
     "output_type": "stream",
     "text": [
      "/Volumes/Macintosh_HD/Python/miniconda3/lib/python3.6/site-packages/sklearn/metrics/classification.py:1143: UndefinedMetricWarning: Precision is ill-defined and being set to 0.0 in labels with no predicted samples.\n",
      "  'precision', 'predicted', average, warn_for)\n",
      "/Volumes/Macintosh_HD/Python/miniconda3/lib/python3.6/site-packages/sklearn/metrics/classification.py:1143: UndefinedMetricWarning: F-score is ill-defined and being set to 0.0 in labels with no predicted samples.\n",
      "  'precision', 'predicted', average, warn_for)\n"
     ]
    },
    {
     "name": "stdout",
     "output_type": "stream",
     "text": [
      "23 :  0.3628023352793995\n"
     ]
    },
    {
     "name": "stderr",
     "output_type": "stream",
     "text": [
      "/Volumes/Macintosh_HD/Python/miniconda3/lib/python3.6/site-packages/sklearn/metrics/classification.py:1143: UndefinedMetricWarning: Precision is ill-defined and being set to 0.0 in labels with no predicted samples.\n",
      "  'precision', 'predicted', average, warn_for)\n",
      "/Volumes/Macintosh_HD/Python/miniconda3/lib/python3.6/site-packages/sklearn/metrics/classification.py:1143: UndefinedMetricWarning: F-score is ill-defined and being set to 0.0 in labels with no predicted samples.\n",
      "  'precision', 'predicted', average, warn_for)\n"
     ]
    },
    {
     "name": "stdout",
     "output_type": "stream",
     "text": [
      "25 :  0.3642201834862385\n"
     ]
    },
    {
     "name": "stderr",
     "output_type": "stream",
     "text": [
      "/Volumes/Macintosh_HD/Python/miniconda3/lib/python3.6/site-packages/sklearn/metrics/classification.py:1143: UndefinedMetricWarning: Precision is ill-defined and being set to 0.0 in labels with no predicted samples.\n",
      "  'precision', 'predicted', average, warn_for)\n",
      "/Volumes/Macintosh_HD/Python/miniconda3/lib/python3.6/site-packages/sklearn/metrics/classification.py:1143: UndefinedMetricWarning: F-score is ill-defined and being set to 0.0 in labels with no predicted samples.\n",
      "  'precision', 'predicted', average, warn_for)\n"
     ]
    },
    {
     "name": "stdout",
     "output_type": "stream",
     "text": [
      "27 :  0.3678065054211843\n"
     ]
    },
    {
     "name": "stderr",
     "output_type": "stream",
     "text": [
      "/Volumes/Macintosh_HD/Python/miniconda3/lib/python3.6/site-packages/sklearn/metrics/classification.py:1143: UndefinedMetricWarning: Precision is ill-defined and being set to 0.0 in labels with no predicted samples.\n",
      "  'precision', 'predicted', average, warn_for)\n",
      "/Volumes/Macintosh_HD/Python/miniconda3/lib/python3.6/site-packages/sklearn/metrics/classification.py:1143: UndefinedMetricWarning: F-score is ill-defined and being set to 0.0 in labels with no predicted samples.\n",
      "  'precision', 'predicted', average, warn_for)\n"
     ]
    },
    {
     "name": "stdout",
     "output_type": "stream",
     "text": [
      "29 :  0.3664720600500417\n"
     ]
    },
    {
     "name": "stderr",
     "output_type": "stream",
     "text": [
      "/Volumes/Macintosh_HD/Python/miniconda3/lib/python3.6/site-packages/sklearn/metrics/classification.py:1143: UndefinedMetricWarning: Precision is ill-defined and being set to 0.0 in labels with no predicted samples.\n",
      "  'precision', 'predicted', average, warn_for)\n",
      "/Volumes/Macintosh_HD/Python/miniconda3/lib/python3.6/site-packages/sklearn/metrics/classification.py:1143: UndefinedMetricWarning: F-score is ill-defined and being set to 0.0 in labels with no predicted samples.\n",
      "  'precision', 'predicted', average, warn_for)\n"
     ]
    },
    {
     "name": "stdout",
     "output_type": "stream",
     "text": [
      "31 :  0.36430358632193494\n"
     ]
    },
    {
     "name": "stderr",
     "output_type": "stream",
     "text": [
      "/Volumes/Macintosh_HD/Python/miniconda3/lib/python3.6/site-packages/sklearn/metrics/classification.py:1143: UndefinedMetricWarning: Precision is ill-defined and being set to 0.0 in labels with no predicted samples.\n",
      "  'precision', 'predicted', average, warn_for)\n",
      "/Volumes/Macintosh_HD/Python/miniconda3/lib/python3.6/site-packages/sklearn/metrics/classification.py:1143: UndefinedMetricWarning: F-score is ill-defined and being set to 0.0 in labels with no predicted samples.\n",
      "  'precision', 'predicted', average, warn_for)\n"
     ]
    },
    {
     "name": "stdout",
     "output_type": "stream",
     "text": [
      "33 :  0.36455379482902417\n"
     ]
    },
    {
     "name": "stderr",
     "output_type": "stream",
     "text": [
      "/Volumes/Macintosh_HD/Python/miniconda3/lib/python3.6/site-packages/sklearn/metrics/classification.py:1143: UndefinedMetricWarning: Precision is ill-defined and being set to 0.0 in labels with no predicted samples.\n",
      "  'precision', 'predicted', average, warn_for)\n",
      "/Volumes/Macintosh_HD/Python/miniconda3/lib/python3.6/site-packages/sklearn/metrics/classification.py:1143: UndefinedMetricWarning: F-score is ill-defined and being set to 0.0 in labels with no predicted samples.\n",
      "  'precision', 'predicted', average, warn_for)\n"
     ]
    },
    {
     "name": "stdout",
     "output_type": "stream",
     "text": [
      "35 :  0.36246872393661383\n"
     ]
    },
    {
     "name": "stderr",
     "output_type": "stream",
     "text": [
      "/Volumes/Macintosh_HD/Python/miniconda3/lib/python3.6/site-packages/sklearn/metrics/classification.py:1143: UndefinedMetricWarning: Precision is ill-defined and being set to 0.0 in labels with no predicted samples.\n",
      "  'precision', 'predicted', average, warn_for)\n",
      "/Volumes/Macintosh_HD/Python/miniconda3/lib/python3.6/site-packages/sklearn/metrics/classification.py:1143: UndefinedMetricWarning: F-score is ill-defined and being set to 0.0 in labels with no predicted samples.\n",
      "  'precision', 'predicted', average, warn_for)\n"
     ]
    },
    {
     "name": "stdout",
     "output_type": "stream",
     "text": [
      "37 :  0.3628023352793995\n"
     ]
    },
    {
     "name": "stderr",
     "output_type": "stream",
     "text": [
      "/Volumes/Macintosh_HD/Python/miniconda3/lib/python3.6/site-packages/sklearn/metrics/classification.py:1143: UndefinedMetricWarning: Precision is ill-defined and being set to 0.0 in labels with no predicted samples.\n",
      "  'precision', 'predicted', average, warn_for)\n",
      "/Volumes/Macintosh_HD/Python/miniconda3/lib/python3.6/site-packages/sklearn/metrics/classification.py:1143: UndefinedMetricWarning: F-score is ill-defined and being set to 0.0 in labels with no predicted samples.\n",
      "  'precision', 'predicted', average, warn_for)\n"
     ]
    },
    {
     "name": "stdout",
     "output_type": "stream",
     "text": [
      "39 :  0.36430358632193494\n"
     ]
    },
    {
     "name": "stderr",
     "output_type": "stream",
     "text": [
      "/Volumes/Macintosh_HD/Python/miniconda3/lib/python3.6/site-packages/sklearn/metrics/classification.py:1143: UndefinedMetricWarning: Precision is ill-defined and being set to 0.0 in labels with no predicted samples.\n",
      "  'precision', 'predicted', average, warn_for)\n",
      "/Volumes/Macintosh_HD/Python/miniconda3/lib/python3.6/site-packages/sklearn/metrics/classification.py:1143: UndefinedMetricWarning: F-score is ill-defined and being set to 0.0 in labels with no predicted samples.\n",
      "  'precision', 'predicted', average, warn_for)\n"
     ]
    }
   ],
   "source": [
    "age_segment_k_list, age_segment_prediction, age_segment_accuracies, age_segment_recalls, age_segment_precisions, age_segment_f1 = knn(age_segment_prediction_features, age_segment_prediction_labels, 41, 'macro')\n"
   ]
  },
  {
   "cell_type": "code",
   "execution_count": 227,
   "metadata": {},
   "outputs": [
    {
     "data": {
      "image/png": "[encoded data removed]",
      "text/plain": [
       "<Figure size 720x576 with 1 Axes>"
      ]
     },
     "metadata": {},
     "output_type": "display_data"
    }
   ],
   "source": [
    "plotaccuracy(age_segment_k_list, age_segment_accuracies, age_segment_recalls, age_segment_precisions, age_segment_f1,\"Age Segment Classifier Accuracy\")"
   ]
  },
  {
   "cell_type": "code",
   "execution_count": null,
   "metadata": {},
   "outputs": [],
   "source": []
  }
 ],
 "metadata": {
  "kernelspec": {
   "display_name": "Python 3",
   "language": "python",
   "name": "python3"
  },
  "language_info": {
   "codemirror_mode": {
    "name": "ipython",
    "version": 3
   },
   "file_extension": ".py",
   "mimetype": "text/x-python",
   "name": "python",
   "nbconvert_exporter": "python",
   "pygments_lexer": "ipython3",
   "version": "3.6.7"
  }
 },
 "nbformat": 4,
 "nbformat_minor": 2
}
